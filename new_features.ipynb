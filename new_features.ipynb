{
 "cells": [
  {
   "cell_type": "code",
   "execution_count": 141,
   "metadata": {
    "collapsed": true
   },
   "outputs": [],
   "source": [
    "# ONLY USE THIS BLOCK OF CODE ON NICASIA'S COMPUTER \n",
    "import sys\n",
    "sys.path.append(\"/anaconda/lib/python2.7/site-packages\")\n",
    "#####\n",
    "\n",
    "import copy\n",
    "import pandas as pd\n",
    "import numpy as np\n",
    "from matplotlib.patches import Polygon\n",
    "from sklearn.preprocessing import Imputer\n",
    "from sklearn.preprocessing import StandardScaler as Standardize\n",
    "from sklearn.linear_model import LinearRegression as Lin_Reg\n",
    "from sklearn.linear_model import Ridge as Ridge_Reg\n",
    "from sklearn.linear_model import Lasso as Lasso_Reg\n",
    "from sklearn.preprocessing import PolynomialFeatures\n",
    "from sklearn import ensemble\n",
    "from sklearn.pipeline import Pipeline\n",
    "from sklearn.preprocessing import StandardScaler\n",
    "from statsmodels.regression.linear_model import OLS\n",
    "import string\n",
    "import matplotlib.pyplot as plt\n",
    "%matplotlib inline\n",
    "import math"
   ]
  },
  {
   "cell_type": "code",
   "execution_count": 45,
   "metadata": {
    "collapsed": true
   },
   "outputs": [],
   "source": [
    "df = pd.read_csv(\"mn_crimes_and_schools.csv\")\n",
    "df = df[np.isfinite(df[\"zestimate_amount\"])]"
   ]
  },
  {
   "cell_type": "code",
   "execution_count": 145,
   "metadata": {
    "collapsed": false
   },
   "outputs": [],
   "source": [
    "df_pct_with_reductions = pd.read_csv(\"new_predictors/Neighborhood_PctOfListingsWithPriceReductions_AllHomes.csv\")"
   ]
  },
  {
   "cell_type": "code",
   "execution_count": 146,
   "metadata": {
    "collapsed": false
   },
   "outputs": [],
   "source": [
    "df_neighborhood_turnovers = pd.read_csv(\"new_predictors/Neighborhood_Turnover_AllHomes.csv\")"
   ]
  },
  {
   "cell_type": "code",
   "execution_count": 55,
   "metadata": {
    "collapsed": true
   },
   "outputs": [],
   "source": [
    "df_subway_stops = pd.read_csv(\"/new_predictors/StationEntrances.csv\")\n",
    "df_subway_stops = df_subway_stops[[\"Latitude\", \"Longitude\"]]"
   ]
  },
  {
   "cell_type": "code",
   "execution_count": 59,
   "metadata": {
    "collapsed": false
   },
   "outputs": [],
   "source": [
    "df_pct_with_reductions = df_pct_with_reductions[df_pct_with_reductions[\"County\"]==\"New York\"] "
   ]
  },
  {
   "cell_type": "code",
   "execution_count": 108,
   "metadata": {
    "collapsed": false
   },
   "outputs": [
    {
     "data": {
      "text/plain": [
       "{'Astoria-Long Island City',\n",
       " 'Bedford-Stuyvesant',\n",
       " 'Fort Green',\n",
       " 'North Sutton Area',\n",
       " 'Soho',\n",
       " 'Sunny Side',\n",
       " 'Yorkville'}"
      ]
     },
     "execution_count": 108,
     "metadata": {},
     "output_type": "execute_result"
    }
   ],
   "source": [
    "set(df[\"neighborhood\"].unique()).difference(set(df_neighborhood_turnovers[\"RegionName\"].unique()))"
   ]
  },
  {
   "cell_type": "code",
   "execution_count": 147,
   "metadata": {
    "collapsed": false
   },
   "outputs": [],
   "source": [
    "df_neighborhood_turnovers = df_neighborhood_turnovers[df_neighborhood_turnovers[\"City\"] == \"New York\"]\n",
    "\n",
    "rename_dict = {'Astoria': 'Astoria-Long Island City', 'Bedford Stuyvesant': 'Bedford-Stuyvesant', \\\n",
    "              'Fort Greene': 'Fort Green', 'Sutton Place': 'North Sutton Area', 'SoHo': 'Soho', \\\n",
    "              'Sunnyside':'Sunny Side'}\n",
    "\n",
    "df_neighborhood_turnovers[\"neighborhood\"] = None\n",
    "for i in df_neighborhood_turnovers.index:\n",
    "    reg_name = df_neighborhood_turnovers.loc[i][\"RegionName\"]\n",
    "    if reg_name in rename_dict.keys():\n",
    "        df_neighborhood_turnovers.set_value(i, 'neighborhood', rename_dict[reg_name])\n",
    "    else:\n",
    "        df_neighborhood_turnovers.set_value(i, 'neighborhood', reg_name)\n",
    "\n",
    "        \n",
    "# this dataset is missing yorkville, so we're just making a copy of upper east side's data because yorkville seems to \n",
    "# just be a subset of the upper east side\n",
    "yorkville_row = copy.deepcopy(df_neighborhood_turnovers.loc[6])\n",
    "yorkville_row.neighborhood = \"Yorkville\"\n",
    "\n",
    "df_neighborhood_turnovers = df_neighborhood_turnovers.append(yorkville_row)\n",
    "\n",
    "# we just want the most recent rate and neighborhood name\n",
    "df_neighborhood_turnovers = df_neighborhood_turnovers[[\"neighborhood\", \"2016-10\"]]"
   ]
  },
  {
   "cell_type": "markdown",
   "metadata": {},
   "source": [
    "## MERGE DF & DF_NEIGHBORHOOD_TURNOVERS SOMEHOW?? MATCH ON NEIGHBORHOOD "
   ]
  },
  {
   "cell_type": "code",
   "execution_count": null,
   "metadata": {
    "collapsed": true
   },
   "outputs": [],
   "source": []
  },
  {
   "cell_type": "code",
   "execution_count": null,
   "metadata": {
    "collapsed": true
   },
   "outputs": [],
   "source": []
  },
  {
   "cell_type": "code",
   "execution_count": null,
   "metadata": {
    "collapsed": true
   },
   "outputs": [],
   "source": []
  },
  {
   "cell_type": "code",
   "execution_count": null,
   "metadata": {
    "collapsed": true
   },
   "outputs": [],
   "source": [
    "def manhattan_dist(lat1, lat2, long1, long2):\n",
    "    return abs(long1-long2) + abs(lat1-lat2)"
   ]
  },
  {
   "cell_type": "code",
   "execution_count": 152,
   "metadata": {
    "collapsed": false
   },
   "outputs": [],
   "source": [
    "df[\"dist_to_subway\"] = None\n",
    "for i in df.index:\n",
    "    lat = df.loc[i][\"latitude\"]\n",
    "    lon = df.loc[i][\"longitude\"]\n",
    "    mn_dists = [manhattan_dist(x[0], lat, x[1], lon) for x in df_subway_stops.as_matrix()]\n",
    "    df.set_value(i, 'dist_to_subway', np.min(mn_dists))"
   ]
  },
  {
   "cell_type": "code",
   "execution_count": null,
   "metadata": {
    "collapsed": true
   },
   "outputs": [],
   "source": []
  }
 ],
 "metadata": {
  "kernelspec": {
   "display_name": "Python 2",
   "language": "python",
   "name": "python2"
  },
  "language_info": {
   "codemirror_mode": {
    "name": "ipython",
    "version": 2
   },
   "file_extension": ".py",
   "mimetype": "text/x-python",
   "name": "python",
   "nbconvert_exporter": "python",
   "pygments_lexer": "ipython2",
   "version": "2.7.12"
  }
 },
 "nbformat": 4,
 "nbformat_minor": 0
}
