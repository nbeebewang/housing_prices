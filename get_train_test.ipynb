{
 "cells": [
  {
   "cell_type": "code",
   "execution_count": 1,
   "metadata": {
    "collapsed": true
   },
   "outputs": [],
   "source": [
    "import numpy as np \n",
    "import pandas as pd \n",
    "import os\n",
    "from sklearn.preprocessing import Imputer"
   ]
  },
  {
   "cell_type": "code",
   "execution_count": 2,
   "metadata": {
    "collapsed": true
   },
   "outputs": [],
   "source": [
    "data = pd.read_csv(\"mn_crimes_and_schools.csv\")"
   ]
  },
  {
   "cell_type": "code",
   "execution_count": 3,
   "metadata": {
    "collapsed": false
   },
   "outputs": [
    {
     "data": {
      "text/html": [
       "<div>\n",
       "<table border=\"1\" class=\"dataframe\">\n",
       "  <thead>\n",
       "    <tr style=\"text-align: right;\">\n",
       "      <th></th>\n",
       "      <th>tax_value</th>\n",
       "      <th>last_sold_price</th>\n",
       "      <th>property_size</th>\n",
       "      <th>zestimate_amount</th>\n",
       "      <th>bathrooms</th>\n",
       "      <th>zestimate_valuation_range_high</th>\n",
       "      <th>tax_year</th>\n",
       "      <th>zestimate_value_change</th>\n",
       "      <th>latitude</th>\n",
       "      <th>zestimate_percentile</th>\n",
       "      <th>...</th>\n",
       "      <th>TOTAL MISDEMEANOR OFFENSES_last_3_years</th>\n",
       "      <th>TOTAL MISDEMEANOR OFFENSES_percent_change</th>\n",
       "      <th>TOTAL NON-SEVEN MAJOR FELONY OFFENSES_last_3_years</th>\n",
       "      <th>TOTAL NON-SEVEN MAJOR FELONY OFFENSES_percent_change</th>\n",
       "      <th>TOTAL SEVEN MAJOR FELONY OFFENSES_last_3_years</th>\n",
       "      <th>TOTAL SEVEN MAJOR FELONY OFFENSES_percent_change</th>\n",
       "      <th>UNAUTHORIZED USE OF A VEHICLE_last_3_years</th>\n",
       "      <th>UNAUTHORIZED USE OF A VEHICLE_percent_change</th>\n",
       "      <th>VEHICLE AND TRAFFIC LAWS_last_3_years</th>\n",
       "      <th>VEHICLE AND TRAFFIC LAWS_percent_change</th>\n",
       "    </tr>\n",
       "  </thead>\n",
       "  <tbody>\n",
       "    <tr>\n",
       "      <th>0</th>\n",
       "      <td>NaN</td>\n",
       "      <td>NaN</td>\n",
       "      <td>NaN</td>\n",
       "      <td>849427.0</td>\n",
       "      <td>1.0</td>\n",
       "      <td>1044795.0</td>\n",
       "      <td>NaN</td>\n",
       "      <td>NaN</td>\n",
       "      <td>40.724448</td>\n",
       "      <td>0.0</td>\n",
       "      <td>...</td>\n",
       "      <td>4072.666667</td>\n",
       "      <td>11.540689</td>\n",
       "      <td>678.666667</td>\n",
       "      <td>0.342633</td>\n",
       "      <td>1364.0</td>\n",
       "      <td>1.539942</td>\n",
       "      <td>5.333333</td>\n",
       "      <td>15.789474</td>\n",
       "      <td>39.333333</td>\n",
       "      <td>-8.256881</td>\n",
       "    </tr>\n",
       "    <tr>\n",
       "      <th>1</th>\n",
       "      <td>1642000.0</td>\n",
       "      <td>NaN</td>\n",
       "      <td>2250.0</td>\n",
       "      <td>NaN</td>\n",
       "      <td>2.0</td>\n",
       "      <td>NaN</td>\n",
       "      <td>2015.0</td>\n",
       "      <td>NaN</td>\n",
       "      <td>40.724420</td>\n",
       "      <td>0.0</td>\n",
       "      <td>...</td>\n",
       "      <td>4072.666667</td>\n",
       "      <td>11.540689</td>\n",
       "      <td>678.666667</td>\n",
       "      <td>0.342633</td>\n",
       "      <td>1364.0</td>\n",
       "      <td>1.539942</td>\n",
       "      <td>5.333333</td>\n",
       "      <td>15.789474</td>\n",
       "      <td>39.333333</td>\n",
       "      <td>-8.256881</td>\n",
       "    </tr>\n",
       "    <tr>\n",
       "      <th>2</th>\n",
       "      <td>1674000.0</td>\n",
       "      <td>NaN</td>\n",
       "      <td>2250.0</td>\n",
       "      <td>7332356.0</td>\n",
       "      <td>1.0</td>\n",
       "      <td>7992268.0</td>\n",
       "      <td>2015.0</td>\n",
       "      <td>NaN</td>\n",
       "      <td>40.724385</td>\n",
       "      <td>0.0</td>\n",
       "      <td>...</td>\n",
       "      <td>4072.666667</td>\n",
       "      <td>11.540689</td>\n",
       "      <td>678.666667</td>\n",
       "      <td>0.342633</td>\n",
       "      <td>1364.0</td>\n",
       "      <td>1.539942</td>\n",
       "      <td>5.333333</td>\n",
       "      <td>15.789474</td>\n",
       "      <td>39.333333</td>\n",
       "      <td>-8.256881</td>\n",
       "    </tr>\n",
       "    <tr>\n",
       "      <th>3</th>\n",
       "      <td>NaN</td>\n",
       "      <td>NaN</td>\n",
       "      <td>NaN</td>\n",
       "      <td>1991289.0</td>\n",
       "      <td>1.0</td>\n",
       "      <td>2708153.0</td>\n",
       "      <td>NaN</td>\n",
       "      <td>NaN</td>\n",
       "      <td>40.724332</td>\n",
       "      <td>0.0</td>\n",
       "      <td>...</td>\n",
       "      <td>4072.666667</td>\n",
       "      <td>11.540689</td>\n",
       "      <td>678.666667</td>\n",
       "      <td>0.342633</td>\n",
       "      <td>1364.0</td>\n",
       "      <td>1.539942</td>\n",
       "      <td>5.333333</td>\n",
       "      <td>15.789474</td>\n",
       "      <td>39.333333</td>\n",
       "      <td>-8.256881</td>\n",
       "    </tr>\n",
       "    <tr>\n",
       "      <th>4</th>\n",
       "      <td>NaN</td>\n",
       "      <td>NaN</td>\n",
       "      <td>NaN</td>\n",
       "      <td>NaN</td>\n",
       "      <td>NaN</td>\n",
       "      <td>NaN</td>\n",
       "      <td>NaN</td>\n",
       "      <td>NaN</td>\n",
       "      <td>40.724845</td>\n",
       "      <td>0.0</td>\n",
       "      <td>...</td>\n",
       "      <td>4072.666667</td>\n",
       "      <td>11.540689</td>\n",
       "      <td>678.666667</td>\n",
       "      <td>0.342633</td>\n",
       "      <td>1364.0</td>\n",
       "      <td>1.539942</td>\n",
       "      <td>5.333333</td>\n",
       "      <td>15.789474</td>\n",
       "      <td>39.333333</td>\n",
       "      <td>-8.256881</td>\n",
       "    </tr>\n",
       "  </tbody>\n",
       "</table>\n",
       "<p>5 rows × 100 columns</p>\n",
       "</div>"
      ],
      "text/plain": [
       "   tax_value  last_sold_price  property_size  zestimate_amount  bathrooms  \\\n",
       "0        NaN              NaN            NaN          849427.0        1.0   \n",
       "1  1642000.0              NaN         2250.0               NaN        2.0   \n",
       "2  1674000.0              NaN         2250.0         7332356.0        1.0   \n",
       "3        NaN              NaN            NaN         1991289.0        1.0   \n",
       "4        NaN              NaN            NaN               NaN        NaN   \n",
       "\n",
       "   zestimate_valuation_range_high  tax_year  zestimate_value_change  \\\n",
       "0                       1044795.0       NaN                     NaN   \n",
       "1                             NaN    2015.0                     NaN   \n",
       "2                       7992268.0    2015.0                     NaN   \n",
       "3                       2708153.0       NaN                     NaN   \n",
       "4                             NaN       NaN                     NaN   \n",
       "\n",
       "    latitude  zestimate_percentile                   ...                    \\\n",
       "0  40.724448                   0.0                   ...                     \n",
       "1  40.724420                   0.0                   ...                     \n",
       "2  40.724385                   0.0                   ...                     \n",
       "3  40.724332                   0.0                   ...                     \n",
       "4  40.724845                   0.0                   ...                     \n",
       "\n",
       "   TOTAL MISDEMEANOR OFFENSES_last_3_years  \\\n",
       "0                              4072.666667   \n",
       "1                              4072.666667   \n",
       "2                              4072.666667   \n",
       "3                              4072.666667   \n",
       "4                              4072.666667   \n",
       "\n",
       "  TOTAL MISDEMEANOR OFFENSES_percent_change  \\\n",
       "0                                 11.540689   \n",
       "1                                 11.540689   \n",
       "2                                 11.540689   \n",
       "3                                 11.540689   \n",
       "4                                 11.540689   \n",
       "\n",
       "   TOTAL NON-SEVEN MAJOR FELONY OFFENSES_last_3_years  \\\n",
       "0                                         678.666667    \n",
       "1                                         678.666667    \n",
       "2                                         678.666667    \n",
       "3                                         678.666667    \n",
       "4                                         678.666667    \n",
       "\n",
       "  TOTAL NON-SEVEN MAJOR FELONY OFFENSES_percent_change  \\\n",
       "0                                           0.342633     \n",
       "1                                           0.342633     \n",
       "2                                           0.342633     \n",
       "3                                           0.342633     \n",
       "4                                           0.342633     \n",
       "\n",
       "   TOTAL SEVEN MAJOR FELONY OFFENSES_last_3_years  \\\n",
       "0                                          1364.0   \n",
       "1                                          1364.0   \n",
       "2                                          1364.0   \n",
       "3                                          1364.0   \n",
       "4                                          1364.0   \n",
       "\n",
       "   TOTAL SEVEN MAJOR FELONY OFFENSES_percent_change  \\\n",
       "0                                          1.539942   \n",
       "1                                          1.539942   \n",
       "2                                          1.539942   \n",
       "3                                          1.539942   \n",
       "4                                          1.539942   \n",
       "\n",
       "  UNAUTHORIZED USE OF A VEHICLE_last_3_years  \\\n",
       "0                                   5.333333   \n",
       "1                                   5.333333   \n",
       "2                                   5.333333   \n",
       "3                                   5.333333   \n",
       "4                                   5.333333   \n",
       "\n",
       "   UNAUTHORIZED USE OF A VEHICLE_percent_change  \\\n",
       "0                                     15.789474   \n",
       "1                                     15.789474   \n",
       "2                                     15.789474   \n",
       "3                                     15.789474   \n",
       "4                                     15.789474   \n",
       "\n",
       "   VEHICLE AND TRAFFIC LAWS_last_3_years  \\\n",
       "0                              39.333333   \n",
       "1                              39.333333   \n",
       "2                              39.333333   \n",
       "3                              39.333333   \n",
       "4                              39.333333   \n",
       "\n",
       "  VEHICLE AND TRAFFIC LAWS_percent_change  \n",
       "0                               -8.256881  \n",
       "1                               -8.256881  \n",
       "2                               -8.256881  \n",
       "3                               -8.256881  \n",
       "4                               -8.256881  \n",
       "\n",
       "[5 rows x 100 columns]"
      ]
     },
     "execution_count": 3,
     "metadata": {},
     "output_type": "execute_result"
    }
   ],
   "source": [
    "data.head()"
   ]
  },
  {
   "cell_type": "code",
   "execution_count": 4,
   "metadata": {
    "collapsed": false,
    "scrolled": true
   },
   "outputs": [],
   "source": [
    "# get rid of rows that have missing values for our y value (zestimate_amount)\n",
    "data = data[np.isfinite(data['zestimate_amount'])]"
   ]
  },
  {
   "cell_type": "code",
   "execution_count": 5,
   "metadata": {
    "collapsed": true
   },
   "outputs": [],
   "source": [
    "def clean_data (data, impute=True):\n",
    "    \n",
    "    # get rid of all zestimate values (besides our y), links, and Unnamed:22 (this is all NAs)\n",
    "    data = data.drop(['zestimate_valuation_range_high', 'zestimate_value_change', 'zestimate_percentile', 'zestimate_last_updated',\n",
    "                   'zestimate_valuationRange_low', 'graph_data_link', 'home_detail_link', 'map_this_home_link', 'Unnamed: 22',\n",
    "                    'zillow_id', 'last_sold_date', 'last_sold_price'], 1)\n",
    "\n",
    "    # convert school district and precinct to string to get dummies\n",
    "    data['schooldistrict_string'] = data['schooldistrict'].astype(str)\n",
    "    data['precinct_string'] = data['precinct'].astype(str)\n",
    "\n",
    "    # replace all categorical variables with dummy variables\n",
    "    dummies = pd.get_dummies(data[['home_type', 'neighborhood', 'schooldistrict_string', 'precinct_string']])\n",
    "    data = pd.concat([data, dummies], axis=1)\n",
    "    data = data.drop(['home_type', 'neighborhood', 'schooldistrict', 'schooldistrict_string', 'precinct', 'precinct_string'], 1)\n",
    "    \n",
    "    data = data.replace(np.inf, 0)\n",
    "    data = data.replace(-np.inf, 0)\n",
    "    \n",
    "    print \"Columns with Missing Values:\"\n",
    "    for column in data.columns:\n",
    "        percent_missing = len(data[data[column] != data[column]])/float(len(data))\n",
    "        if percent_missing > 0:\n",
    "            print column, \"\\t\\t\\t\",percent_missing\n",
    "\n",
    "    column_names = data.columns.values\n",
    "    \n",
    "    if impute:\n",
    "        imputer_data = Imputer(strategy = \"median\")\n",
    "        imputer_data.fit(data)\n",
    "        data = imputer_data.transform(data)\n",
    "        print \"Missing values imputed\"\n",
    "    \n",
    "    data = pd.DataFrame(data, columns = column_names)\n",
    "    \n",
    "    return data"
   ]
  },
  {
   "cell_type": "code",
   "execution_count": 6,
   "metadata": {
    "collapsed": false,
    "scrolled": true
   },
   "outputs": [
    {
     "name": "stdout",
     "output_type": "stream",
     "text": [
      "Columns with Missing Values:\n",
      "tax_value \t\t\t0.44906642639\n",
      "property_size \t\t\t0.449817289883\n",
      "bathrooms \t\t\t0.347649797267\n",
      "tax_year \t\t\t0.44906642639\n",
      "bedrooms \t\t\t0.33298293037\n",
      "year_built \t\t\t0.326625619462\n",
      "home_size \t\t\t0.22005306102\n",
      "Missing values imputed\n"
     ]
    }
   ],
   "source": [
    "cleaned_data_imputed = clean_data (data)"
   ]
  },
  {
   "cell_type": "code",
   "execution_count": 7,
   "metadata": {
    "collapsed": false
   },
   "outputs": [
    {
     "name": "stdout",
     "output_type": "stream",
     "text": [
      "Columns with Missing Values:\n",
      "tax_value \t\t\t0.44906642639\n",
      "property_size \t\t\t0.449817289883\n",
      "bathrooms \t\t\t0.347649797267\n",
      "tax_year \t\t\t0.44906642639\n",
      "bedrooms \t\t\t0.33298293037\n",
      "year_built \t\t\t0.326625619462\n",
      "home_size \t\t\t0.22005306102\n"
     ]
    }
   ],
   "source": [
    "cleaned_data_not_imputed = clean_data (data, impute=False)"
   ]
  },
  {
   "cell_type": "code",
   "execution_count": 8,
   "metadata": {
    "collapsed": true
   },
   "outputs": [],
   "source": [
    "test_imputed = cleaned_data_imputed.sample(n=3000)\n",
    "train_imputed = cleaned_data_imputed.drop(test_imputed.index)"
   ]
  },
  {
   "cell_type": "code",
   "execution_count": 9,
   "metadata": {
    "collapsed": true
   },
   "outputs": [],
   "source": [
    "test_imputed.to_csv(\"test_imputed.csv\", index = False)\n",
    "train_imputed.to_csv(\"train_imputed.csv\", index = False)"
   ]
  },
  {
   "cell_type": "code",
   "execution_count": 10,
   "metadata": {
    "collapsed": true
   },
   "outputs": [],
   "source": [
    "test_not_imputed = cleaned_data_not_imputed.sample(n=3000)\n",
    "train_not_imputed = cleaned_data_not_imputed.drop(test_not_imputed.index)"
   ]
  },
  {
   "cell_type": "code",
   "execution_count": 11,
   "metadata": {
    "collapsed": true
   },
   "outputs": [],
   "source": [
    "test_not_imputed.to_csv(\"test_not_imputed.csv\", index = False)\n",
    "train_not_imputed.to_csv(\"train_not_imputed.csv\", index = False)"
   ]
  },
  {
   "cell_type": "code",
   "execution_count": null,
   "metadata": {
    "collapsed": true
   },
   "outputs": [],
   "source": []
  }
 ],
 "metadata": {
  "anaconda-cloud": {},
  "kernelspec": {
   "display_name": "Python [default]",
   "language": "python",
   "name": "python2"
  },
  "language_info": {
   "codemirror_mode": {
    "name": "ipython",
    "version": 2
   },
   "file_extension": ".py",
   "mimetype": "text/x-python",
   "name": "python",
   "nbconvert_exporter": "python",
   "pygments_lexer": "ipython2",
   "version": "2.7.12"
  }
 },
 "nbformat": 4,
 "nbformat_minor": 0
}
