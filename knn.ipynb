{
 "cells": [
  {
   "cell_type": "markdown",
   "metadata": {},
   "source": [
    "## KNN Model"
   ]
  },
  {
   "cell_type": "code",
   "execution_count": 35,
   "metadata": {
    "collapsed": false
   },
   "outputs": [],
   "source": [
    "import pandas as pd\n",
    "import numpy as np\n",
    "from mpl_toolkits.basemap import Basemap\n",
    "from matplotlib.patches import Polygon\n",
    "from sklearn.linear_model import LinearRegression\n",
    "from sklearn.preprocessing import Imputer\n",
    "from sklearn import cross_validation\n",
    "from sklearn import covariance\n",
    "from sklearn.pipeline import Pipeline\n",
    "from sklearn.neighbors import KNeighborsRegressor as KNN\n",
    "import string\n",
    "import matplotlib.pyplot as plt\n",
    "import matplotlib.patches as mpatches\n",
    "%matplotlib inline\n",
    "import math\n",
    "import string\n",
    "import os\n",
    "import datetime"
   ]
  },
  {
   "cell_type": "markdown",
   "metadata": {},
   "source": [
    "#### Train data"
   ]
  },
  {
   "cell_type": "code",
   "execution_count": 36,
   "metadata": {
    "collapsed": false,
    "scrolled": false
   },
   "outputs": [
    {
     "data": {
      "text/html": [
       "<div>\n",
       "<table border=\"1\" class=\"dataframe\">\n",
       "  <thead>\n",
       "    <tr style=\"text-align: right;\">\n",
       "      <th></th>\n",
       "      <th>tax_value</th>\n",
       "      <th>property_size</th>\n",
       "      <th>zestimate_amount</th>\n",
       "      <th>bathrooms</th>\n",
       "      <th>tax_year</th>\n",
       "      <th>latitude</th>\n",
       "      <th>bedrooms</th>\n",
       "      <th>year_built</th>\n",
       "      <th>home_size</th>\n",
       "      <th>longitude</th>\n",
       "      <th>...</th>\n",
       "      <th>precinct_string_26.0</th>\n",
       "      <th>precinct_string_28.0</th>\n",
       "      <th>precinct_string_30.0</th>\n",
       "      <th>precinct_string_32.0</th>\n",
       "      <th>precinct_string_33.0</th>\n",
       "      <th>precinct_string_34.0</th>\n",
       "      <th>precinct_string_5.0</th>\n",
       "      <th>precinct_string_6.0</th>\n",
       "      <th>precinct_string_7.0</th>\n",
       "      <th>precinct_string_9.0</th>\n",
       "    </tr>\n",
       "  </thead>\n",
       "  <tbody>\n",
       "    <tr>\n",
       "      <th>0</th>\n",
       "      <td>2290000.0</td>\n",
       "      <td>2000.0</td>\n",
       "      <td>849427.0</td>\n",
       "      <td>1.0</td>\n",
       "      <td>2015.0</td>\n",
       "      <td>40.724448</td>\n",
       "      <td>1.0</td>\n",
       "      <td>1910.0</td>\n",
       "      <td>400.0</td>\n",
       "      <td>-73.980284</td>\n",
       "      <td>...</td>\n",
       "      <td>0.0</td>\n",
       "      <td>0.0</td>\n",
       "      <td>0.0</td>\n",
       "      <td>0.0</td>\n",
       "      <td>0.0</td>\n",
       "      <td>0.0</td>\n",
       "      <td>0.0</td>\n",
       "      <td>0.0</td>\n",
       "      <td>0.0</td>\n",
       "      <td>1.0</td>\n",
       "    </tr>\n",
       "    <tr>\n",
       "      <th>1</th>\n",
       "      <td>1674000.0</td>\n",
       "      <td>2250.0</td>\n",
       "      <td>7332356.0</td>\n",
       "      <td>1.0</td>\n",
       "      <td>2015.0</td>\n",
       "      <td>40.724385</td>\n",
       "      <td>2.0</td>\n",
       "      <td>1900.0</td>\n",
       "      <td>10800.0</td>\n",
       "      <td>-73.980120</td>\n",
       "      <td>...</td>\n",
       "      <td>0.0</td>\n",
       "      <td>0.0</td>\n",
       "      <td>0.0</td>\n",
       "      <td>0.0</td>\n",
       "      <td>0.0</td>\n",
       "      <td>0.0</td>\n",
       "      <td>0.0</td>\n",
       "      <td>0.0</td>\n",
       "      <td>0.0</td>\n",
       "      <td>1.0</td>\n",
       "    </tr>\n",
       "    <tr>\n",
       "      <th>2</th>\n",
       "      <td>2290000.0</td>\n",
       "      <td>2000.0</td>\n",
       "      <td>1991289.0</td>\n",
       "      <td>1.0</td>\n",
       "      <td>2015.0</td>\n",
       "      <td>40.724332</td>\n",
       "      <td>4.0</td>\n",
       "      <td>1910.0</td>\n",
       "      <td>3374.0</td>\n",
       "      <td>-73.980007</td>\n",
       "      <td>...</td>\n",
       "      <td>0.0</td>\n",
       "      <td>0.0</td>\n",
       "      <td>0.0</td>\n",
       "      <td>0.0</td>\n",
       "      <td>0.0</td>\n",
       "      <td>0.0</td>\n",
       "      <td>0.0</td>\n",
       "      <td>0.0</td>\n",
       "      <td>0.0</td>\n",
       "      <td>1.0</td>\n",
       "    </tr>\n",
       "    <tr>\n",
       "      <th>3</th>\n",
       "      <td>1670000.0</td>\n",
       "      <td>2250.0</td>\n",
       "      <td>7615912.0</td>\n",
       "      <td>1.0</td>\n",
       "      <td>2015.0</td>\n",
       "      <td>40.724095</td>\n",
       "      <td>1.0</td>\n",
       "      <td>1950.0</td>\n",
       "      <td>8720.0</td>\n",
       "      <td>-73.979414</td>\n",
       "      <td>...</td>\n",
       "      <td>0.0</td>\n",
       "      <td>0.0</td>\n",
       "      <td>0.0</td>\n",
       "      <td>0.0</td>\n",
       "      <td>0.0</td>\n",
       "      <td>0.0</td>\n",
       "      <td>0.0</td>\n",
       "      <td>0.0</td>\n",
       "      <td>0.0</td>\n",
       "      <td>1.0</td>\n",
       "    </tr>\n",
       "    <tr>\n",
       "      <th>4</th>\n",
       "      <td>2290000.0</td>\n",
       "      <td>2000.0</td>\n",
       "      <td>4106754.0</td>\n",
       "      <td>1.0</td>\n",
       "      <td>2015.0</td>\n",
       "      <td>40.723925</td>\n",
       "      <td>3.0</td>\n",
       "      <td>1910.0</td>\n",
       "      <td>3374.0</td>\n",
       "      <td>-73.979737</td>\n",
       "      <td>...</td>\n",
       "      <td>0.0</td>\n",
       "      <td>0.0</td>\n",
       "      <td>0.0</td>\n",
       "      <td>0.0</td>\n",
       "      <td>0.0</td>\n",
       "      <td>0.0</td>\n",
       "      <td>0.0</td>\n",
       "      <td>0.0</td>\n",
       "      <td>0.0</td>\n",
       "      <td>1.0</td>\n",
       "    </tr>\n",
       "  </tbody>\n",
       "</table>\n",
       "<p>5 rows × 171 columns</p>\n",
       "</div>"
      ],
      "text/plain": [
       "   tax_value  property_size  zestimate_amount  bathrooms  tax_year   latitude  \\\n",
       "0  2290000.0         2000.0          849427.0        1.0    2015.0  40.724448   \n",
       "1  1674000.0         2250.0         7332356.0        1.0    2015.0  40.724385   \n",
       "2  2290000.0         2000.0         1991289.0        1.0    2015.0  40.724332   \n",
       "3  1670000.0         2250.0         7615912.0        1.0    2015.0  40.724095   \n",
       "4  2290000.0         2000.0         4106754.0        1.0    2015.0  40.723925   \n",
       "\n",
       "   bedrooms  year_built  home_size  longitude         ...           \\\n",
       "0       1.0      1910.0      400.0 -73.980284         ...            \n",
       "1       2.0      1900.0    10800.0 -73.980120         ...            \n",
       "2       4.0      1910.0     3374.0 -73.980007         ...            \n",
       "3       1.0      1950.0     8720.0 -73.979414         ...            \n",
       "4       3.0      1910.0     3374.0 -73.979737         ...            \n",
       "\n",
       "   precinct_string_26.0  precinct_string_28.0  precinct_string_30.0  \\\n",
       "0                   0.0                   0.0                   0.0   \n",
       "1                   0.0                   0.0                   0.0   \n",
       "2                   0.0                   0.0                   0.0   \n",
       "3                   0.0                   0.0                   0.0   \n",
       "4                   0.0                   0.0                   0.0   \n",
       "\n",
       "   precinct_string_32.0  precinct_string_33.0  precinct_string_34.0  \\\n",
       "0                   0.0                   0.0                   0.0   \n",
       "1                   0.0                   0.0                   0.0   \n",
       "2                   0.0                   0.0                   0.0   \n",
       "3                   0.0                   0.0                   0.0   \n",
       "4                   0.0                   0.0                   0.0   \n",
       "\n",
       "   precinct_string_5.0  precinct_string_6.0  precinct_string_7.0  \\\n",
       "0                  0.0                  0.0                  0.0   \n",
       "1                  0.0                  0.0                  0.0   \n",
       "2                  0.0                  0.0                  0.0   \n",
       "3                  0.0                  0.0                  0.0   \n",
       "4                  0.0                  0.0                  0.0   \n",
       "\n",
       "   precinct_string_9.0  \n",
       "0                  1.0  \n",
       "1                  1.0  \n",
       "2                  1.0  \n",
       "3                  1.0  \n",
       "4                  1.0  \n",
       "\n",
       "[5 rows x 171 columns]"
      ]
     },
     "execution_count": 36,
     "metadata": {},
     "output_type": "execute_result"
    }
   ],
   "source": [
    "train_data = pd.read_csv(\"train_imputed.csv\")\n",
    "train_data.head()"
   ]
  },
  {
   "cell_type": "code",
   "execution_count": 37,
   "metadata": {
    "collapsed": true
   },
   "outputs": [],
   "source": [
    "x_train = train_data.drop(['zestimate_amount'],1)\n",
    "y_train = train_data['zestimate_amount']"
   ]
  },
  {
   "cell_type": "code",
   "execution_count": 38,
   "metadata": {
    "collapsed": false
   },
   "outputs": [],
   "source": [
    "def k_fold_knn(x, y, n_neighbors, num_folds):\n",
    "    \n",
    "    kfold = cross_validation.KFold(len(x), num_folds, shuffle = True)\n",
    "\n",
    "    # Iterate over folds\n",
    "    cv_rsquared = 0\n",
    "    \n",
    "    for train, test in kfold:\n",
    "        x_train_cv = x.iloc[train].values\n",
    "        y_train_cv = y.iloc[train].values\n",
    "        x_test_cv = x.iloc[test].values\n",
    "        y_test_cv = y.iloc[test].values\n",
    "        \n",
    "        # Fit linear regression model and evaluate\n",
    "        knn_model = KNN(n_neighbors = n_neighbors)\n",
    "        knn_model.fit(x_train_cv, y_train_cv)\n",
    "        rsquared = knn_model.score(x_test_cv, y_test_cv)\n",
    "    \n",
    "        # Cummulative accuracy across folds\n",
    "        cv_rsquared += rsquared\n",
    "\n",
    "    # Return average accuracy across folds\n",
    "    return cv_rsquared * 1.0 / num_folds"
   ]
  },
  {
   "cell_type": "markdown",
   "metadata": {},
   "source": [
    "#### Cross validation on KNN models with different numbers of neighbors"
   ]
  },
  {
   "cell_type": "code",
   "execution_count": 39,
   "metadata": {
    "collapsed": false,
    "scrolled": false
   },
   "outputs": [
    {
     "name": "stdout",
     "output_type": "stream",
     "text": [
      "R-squared for k=2 neighbors: 0.125526731368\n",
      "R-squared for k=3 neighbors: 0.153005669399\n",
      "R-squared for k=4 neighbors: 0.20355598976\n",
      "R-squared for k=5 neighbors: 0.198413195485\n",
      "R-squared for k=6 neighbors: 0.198871410309\n",
      "R-squared for k=7 neighbors: 0.244688932067\n",
      "R-squared for k=8 neighbors: 0.23506308442\n",
      "R-squared for k=9 neighbors: 0.268412160409\n",
      "R-squared for k=10 neighbors: 0.260969096231\n",
      "R-squared for k=11 neighbors: 0.256258833714\n",
      "R-squared for k=12 neighbors: 0.275862600147\n",
      "R-squared for k=13 neighbors: 0.273222615053\n",
      "R-squared for k=14 neighbors: 0.268820923069\n",
      "R-squared for k=15 neighbors: 0.271580440034\n",
      "R-squared for k=16 neighbors: 0.270795536123\n",
      "R-squared for k=17 neighbors: 0.260308146025\n",
      "R-squared for k=18 neighbors: 0.294022567646\n",
      "R-squared for k=19 neighbors: 0.281335169449\n"
     ]
    }
   ],
   "source": [
    "for i in range(2, 20): \n",
    "    rsquared = k_fold_knn (x_train, y_train, i, 3)\n",
    "    print \"R-squared for k=\" + str(i) + \" neighbors: \" + str(rsquared)"
   ]
  },
  {
   "cell_type": "markdown",
   "metadata": {},
   "source": [
    "The number of neighbors that resulted in the highest cross-validated r-squared was 18, so this will be our final model."
   ]
  },
  {
   "cell_type": "code",
   "execution_count": null,
   "metadata": {
    "collapsed": true
   },
   "outputs": [],
   "source": []
  },
  {
   "cell_type": "code",
   "execution_count": 40,
   "metadata": {
    "collapsed": false
   },
   "outputs": [
    {
     "data": {
      "text/plain": [
       "KNeighborsRegressor(algorithm='auto', leaf_size=30, metric='minkowski',\n",
       "          metric_params=None, n_jobs=1, n_neighbors=16, p=2,\n",
       "          weights='uniform')"
      ]
     },
     "execution_count": 40,
     "metadata": {},
     "output_type": "execute_result"
    }
   ],
   "source": [
    "final_knn_model = KNN(n_neighbors = 16)\n",
    "final_knn_model.fit(x_train.values, y_train.values)"
   ]
  },
  {
   "cell_type": "code",
   "execution_count": 41,
   "metadata": {
    "collapsed": true
   },
   "outputs": [],
   "source": [
    "test_data = pd.read_csv(\"test_imputed.csv\")"
   ]
  },
  {
   "cell_type": "code",
   "execution_count": 42,
   "metadata": {
    "collapsed": true
   },
   "outputs": [],
   "source": [
    "x_test = test_data.drop(['zestimate_amount'],1)\n",
    "y_test = test_data['zestimate_amount']"
   ]
  },
  {
   "cell_type": "code",
   "execution_count": 43,
   "metadata": {
    "collapsed": false
   },
   "outputs": [
    {
     "data": {
      "text/plain": [
       "0.12803128127596775"
      ]
     },
     "execution_count": 43,
     "metadata": {},
     "output_type": "execute_result"
    }
   ],
   "source": [
    "final_knn_model.score(x_test.values, y_test.values)"
   ]
  },
  {
   "cell_type": "code",
   "execution_count": null,
   "metadata": {
    "collapsed": true
   },
   "outputs": [],
   "source": []
  }
 ],
 "metadata": {
  "anaconda-cloud": {},
  "kernelspec": {
   "display_name": "Python [conda root]",
   "language": "python",
   "name": "conda-root-py"
  },
  "language_info": {
   "codemirror_mode": {
    "name": "ipython",
    "version": 2
   },
   "file_extension": ".py",
   "mimetype": "text/x-python",
   "name": "python",
   "nbconvert_exporter": "python",
   "pygments_lexer": "ipython2",
   "version": "2.7.12"
  }
 },
 "nbformat": 4,
 "nbformat_minor": 1
}
