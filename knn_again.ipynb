{
 "cells": [
  {
   "cell_type": "markdown",
   "metadata": {},
   "source": [
    "## KNN Model"
   ]
  },
  {
   "cell_type": "code",
   "execution_count": null,
   "metadata": {
    "collapsed": true
   },
   "outputs": [],
   "source": [
    "# ONLY USE THIS BLOCK OF CODE ON NICASIA'S COMPUTER \n",
    "import sys\n",
    "sys.path.append(\"/anaconda/lib/python2.7/site-packages\")\n",
    "#####\n",
    "\n",
    "import pandas as pd\n",
    "import numpy as np\n",
    "from mpl_toolkits.basemap import Basemap\n",
    "from matplotlib.patches import Polygon\n",
    "from sklearn.linear_model import LinearRegression\n",
    "from sklearn.preprocessing import Imputer\n",
    "from sklearn import cross_validation\n",
    "from sklearn import covariance\n",
    "from sklearn.pipeline import Pipeline\n",
    "from sklearn.neighbors import KNeighborsRegressor as KNN\n",
    "import string\n",
    "import matplotlib.pyplot as plt\n",
    "import matplotlib.patches as mpatches\n",
    "%matplotlib inline\n",
    "import math\n",
    "import string\n",
    "import os\n",
    "import datetime\n",
    "from sklearn.decomposition import PCA"
   ]
  },
  {
   "cell_type": "code",
   "execution_count": null,
   "metadata": {
    "collapsed": true
   },
   "outputs": [],
   "source": [
    "train_data = pd.read_csv(\"train_imputed.csv\")\n",
    "train_data.head()"
   ]
  },
  {
   "cell_type": "code",
   "execution_count": null,
   "metadata": {
    "collapsed": true
   },
   "outputs": [],
   "source": [
    "x_train = train_data.drop(['zestimate_amount'],1)\n",
    "y_train = train_data['zestimate_amount']"
   ]
  },
  {
   "cell_type": "code",
   "execution_count": null,
   "metadata": {
    "collapsed": true
   },
   "outputs": [],
   "source": [
    "def k_fold_knn(x, y, n_neighbors, num_folds):\n",
    "    \n",
    "    kfold = cross_validation.KFold(len(x), num_folds, shuffle = True)\n",
    "\n",
    "    # Iterate over folds\n",
    "    cv_rsquared = 0\n",
    "    \n",
    "    for train, test in kfold:\n",
    "        x_train_cv = x.iloc[train].values\n",
    "        y_train_cv = y.iloc[train].values\n",
    "        x_test_cv = x.iloc[test].values\n",
    "        y_test_cv = y.iloc[test].values\n",
    "        \n",
    "        # Fit linear regression model and evaluate\n",
    "        knn_model = KNN(n_neighbors = n_neighbors)\n",
    "        knn_model.fit(x_train_cv, y_train_cv)\n",
    "        rsquared = knn_model.score(x_test_cv, y_test_cv)\n",
    "    \n",
    "        # Cummulative accuracy across folds\n",
    "        cv_rsquared += rsquared\n",
    "\n",
    "    # Return average accuracy across folds\n",
    "    return cv_rsquared * 1.0 / num_folds"
   ]
  },
  {
   "cell_type": "markdown",
   "metadata": {},
   "source": [
    "#### Cross validation on KNN models with different numbers of neighbors"
   ]
  },
  {
   "cell_type": "code",
   "execution_count": null,
   "metadata": {
    "collapsed": true
   },
   "outputs": [],
   "source": [
    "for i in range(2, 20): \n",
    "    rsquared = k_fold_knn (x_train, y_train, i, 3)\n",
    "    print \"R-squared for k=\" + str(i) + \" neighbors: \" + str(rsquared)"
   ]
  },
  {
   "cell_type": "markdown",
   "metadata": {},
   "source": [
    "The number of neighbors that resulted in the highest cross-validated r-squared was 18, so this will be our final model.\n",
    "\n",
    "#### Final model\n"
   ]
  },
  {
   "cell_type": "code",
   "execution_count": null,
   "metadata": {
    "collapsed": true
   },
   "outputs": [],
   "source": [
    "final_knn_model = KNN(n_neighbors = 16)\n",
    "final_knn_model.fit(x_train.values, y_train.values)"
   ]
  },
  {
   "cell_type": "markdown",
   "metadata": {},
   "source": [
    "#### Performance of final model on test data"
   ]
  },
  {
   "cell_type": "code",
   "execution_count": null,
   "metadata": {
    "collapsed": true
   },
   "outputs": [],
   "source": [
    "test_data = pd.read_csv(\"test_imputed.csv\")"
   ]
  },
  {
   "cell_type": "code",
   "execution_count": null,
   "metadata": {
    "collapsed": true
   },
   "outputs": [],
   "source": [
    "x_test = test_data.drop(['zestimate_amount'],1)\n",
    "y_test = test_data['zestimate_amount']"
   ]
  },
  {
   "cell_type": "code",
   "execution_count": null,
   "metadata": {
    "collapsed": true
   },
   "outputs": [],
   "source": [
    "final_knn_model.score(x_test.values, y_test.values)"
   ]
  },
  {
   "cell_type": "code",
   "execution_count": null,
   "metadata": {
    "collapsed": true
   },
   "outputs": [],
   "source": []
  },
  {
   "cell_type": "markdown",
   "metadata": {},
   "source": [
    "### ADDING PCA TO REDUCE FEATURE SPACE:\n"
   ]
  },
  {
   "cell_type": "code",
   "execution_count": null,
   "metadata": {
    "collapsed": true
   },
   "outputs": [],
   "source": [
    "def k_fold_knn_with_pca(pca_dims, neighbors, num_folds, x, y):\n",
    "    \n",
    "    kfold = cross_validation.KFold(len(x), num_folds, shuffle = True)\n",
    "\n",
    "    # Iterate over folds\n",
    "    cv_rsquared = 0\n",
    "    \n",
    "    for train, test in kfold:\n",
    "        x_train_cv = x.iloc[train].values\n",
    "        y_train_cv = y.iloc[train].values\n",
    "        x_test_cv = x.iloc[test].values\n",
    "        y_test_cv = y.iloc[test].values\n",
    "        \n",
    "        #Project to the data onto axes\n",
    "        pca = PCA(n_components=pca_dims)\n",
    "        pca.fit(x_train_cv)\n",
    "        x_train_reduced = pca.transform(x_train_cv)\n",
    "        x_test_reduced = pca.transform(x_test_cv)\n",
    "\n",
    "        \n",
    "        # Fit linear regression model and evaluate\n",
    "        knn_model = KNN(n_neighbors = neighbors)\n",
    "        knn_model.fit(x_train_reduced, y_train_cv)\n",
    "        rsquared = knn_model.score(x_test_reduced, y_test_cv)\n",
    "    \n",
    "        # Cummulative accuracy across folds\n",
    "        cv_rsquared += rsquared\n",
    "\n",
    "    # Return average accuracy across folds\n",
    "    return cv_rsquared * 1.0 / num_folds"
   ]
  },
  {
   "cell_type": "code",
   "execution_count": null,
   "metadata": {
    "collapsed": true
   },
   "outputs": [],
   "source": [
    "pca_dims = range(5,15)\n",
    "knn_neighbors = range(20,50, 2)\n",
    "\n",
    "best_r2 = 0\n",
    "best_pca_dim = 0\n",
    "best_knn_k = 0\n",
    "for pca_dim in pca_dims:\n",
    "    for knn_neighbor in knn_neighbors:\n",
    "        current_r2 = k_fold_knn_with_pca(pca_dim, knn_neighbor, 4, x_train, y_train)\n",
    "        # print \"PCA Dimensions: \", pca_dim, \"\\tKNN # Neighbors: \", knn_neighbor, \"\\tR^2: \", current_r2\n",
    "        if current_r2 > best_r2:\n",
    "            best_r2 = current_r2\n",
    "            best_pca_dim = pca_dim\n",
    "            best_knn_k = knn_neighbor\n",
    "            \n",
    "print \"BEST HYPERPARAMETERS FOR KNN WITH WITH PCA:\"\n",
    "print \"PCA Dimensions: \", best_pca_dim\n",
    "print \"KNN # Neighbors: \", best_knn_k\n",
    "print \"Resulting R^2:\", best_r2\n",
    "            "
   ]
  },
  {
   "cell_type": "markdown",
   "metadata": {},
   "source": [
    "Final:"
   ]
  },
  {
   "cell_type": "code",
   "execution_count": null,
   "metadata": {
    "collapsed": true
   },
   "outputs": [],
   "source": [
    "pca = PCA(n_components=12)\n",
    "pca.fit(x_train)\n",
    "x_train_reduced = pca.transform(x_train)\n",
    "x_test_reduced = pca.transform(x_test)\n",
    "\n",
    "\n",
    "final_knn_model = KNN(n_neighbors = 30)\n",
    "final_knn_model.fit(x_train_reduced, y_train.values)\n",
    "\n",
    "final_knn_model.score(x_test_reduced, y_test.values)"
   ]
  },
  {
   "cell_type": "code",
   "execution_count": null,
   "metadata": {
    "collapsed": true
   },
   "outputs": [],
   "source": []
  }
 ],
 "metadata": {
  "kernelspec": {
   "display_name": "Python 2",
   "language": "python",
   "name": "python2"
  },
  "language_info": {
   "codemirror_mode": {
    "name": "ipython",
    "version": 2
   },
   "file_extension": ".py",
   "mimetype": "text/x-python",
   "name": "python",
   "nbconvert_exporter": "python",
   "pygments_lexer": "ipython2",
   "version": "2.7.12"
  }
 },
 "nbformat": 4,
 "nbformat_minor": 0
}
