{
 "cells": [
  {
   "cell_type": "code",
   "execution_count": 2,
   "metadata": {
    "collapsed": true
   },
   "outputs": [],
   "source": [
    "import numpy as np\n",
    "import pandas as pd\n",
    "import matplotlib.pyplot as plt\n",
    "from scipy.stats import ttest_ind\n",
    "from sklearn.preprocessing import Imputer"
   ]
  },
  {
   "cell_type": "code",
   "execution_count": 3,
   "metadata": {
    "collapsed": false,
    "scrolled": true
   },
   "outputs": [],
   "source": [
    "data = pd.read_csv(\"cleaned_data_not_imputed.csv\")"
   ]
  },
  {
   "cell_type": "code",
   "execution_count": 4,
   "metadata": {
    "collapsed": false
   },
   "outputs": [
    {
     "data": {
      "text/plain": [
       "array(['tax_value', 'property_size', 'zestimate_amount', 'bathrooms',\n",
       "       'tax_year', 'latitude', 'bedrooms', 'year_built', 'home_size',\n",
       "       'longitude', 'schools_Number Tested', 'schools_Mean ELA Score',\n",
       "       'schools_Mean Math Score', 'schools_mean score',\n",
       "       'ADMINISTRATIVE CODE_last_3_years',\n",
       "       'ADMINISTRATIVE CODE_percent_change',\n",
       "       'AGGRAVATED HARASSMENT 2_last_3_years',\n",
       "       'AGGRAVATED HARASSMENT 2_percent_change', 'ARSON_last_3_years',\n",
       "       'ARSON_percent_change',\n",
       "       'ASSAULT 3 AND RELATED OFFENSES_last_3_years',\n",
       "       'ASSAULT 3 AND RELATED OFFENSES_percent_change',\n",
       "       'BURGLARY_last_3_years', 'BURGLARY_percent_change',\n",
       "       'CRIMINAL TRESPASS_last_3_years',\n",
       "       'CRIMINAL TRESPASS_percent_change',\n",
       "       'FEL. CRIMINAL MISCHIEF & RELATED OFFENSES_last_3_years',\n",
       "       'FEL. CRIMINAL MISCHIEF & RELATED OFFENSES_percent_change',\n",
       "       'FELONY ASSAULT_last_3_years', 'FELONY ASSAULT_percent_change',\n",
       "       'FELONY DANGEROUS DRUGS_last_3_years',\n",
       "       'FELONY DANGEROUS DRUGS_percent_change',\n",
       "       'FELONY DANGEROUS WEAPONS_last_3_years',\n",
       "       'FELONY DANGEROUS WEAPONS_percent_change',\n",
       "       'FELONY POSSESSION STOLEN PROPERTY_last_3_years',\n",
       "       'FELONY POSSESSION STOLEN PROPERTY_percent_change',\n",
       "       'FELONY SEX CRIMES_last_3_years',\n",
       "       'FELONY SEX CRIMES_percent_change',\n",
       "       'FORGERY_THEFT-FRAUD_IDENTITY THEFT_last_3_years',\n",
       "       'FORGERY_THEFT-FRAUD_IDENTITY THEFT_percent_change',\n",
       "       'FRAUDS_last_3_years', 'FRAUDS_percent_change',\n",
       "       'GRAND LARCENY OF MOTOR VEHICLE_last_3_years',\n",
       "       'GRAND LARCENY OF MOTOR VEHICLE_percent_change',\n",
       "       'GRAND LARCENY_last_3_years', 'GRAND LARCENY_percent_change',\n",
       "       'INTOXICATED & IMPAIRED DRIVING_last_3_years',\n",
       "       'INTOXICATED & IMPAIRED DRIVING_percent_change',\n",
       "       'MISD. CRIMINAL MISCHIEF & RELATED OFFENSES_last_3_years',\n",
       "       'MISD. CRIMINAL MISCHIEF & RELATED OFFENSES_percent_change',\n",
       "       'MISDEMEANOR DANGEROUS DRUGS_last_3_years',\n",
       "       'MISDEMEANOR DANGEROUS DRUGS_percent_change',\n",
       "       'MISDEMEANOR DANGEROUS WEAPONS_last_3_years',\n",
       "       'MISDEMEANOR DANGEROUS WEAPONS_percent_change',\n",
       "       'MISDEMEANOR POSSESSION OF STOLEN PROPERTY_last_3_years',\n",
       "       'MISDEMEANOR POSSESSION OF STOLEN PROPERTY_percent_change',\n",
       "       'MISDEMEANOR SEX CRIMES_last_3_years',\n",
       "       'MISDEMEANOR SEX CRIMES_percent_change',\n",
       "       'MURDER & NON NEGL. MANSLAUGHTER_last_3_years',\n",
       "       'MURDER & NON NEGL. MANSLAUGHTER_percent_change',\n",
       "       'OFFENSES AGAINST PUBLIC ADMINISTRATION_last_3_years',\n",
       "       'OFFENSES AGAINST PUBLIC ADMINISTRATION_percent_change',\n",
       "       'OFFENSES AGAINST THE PERSON_last_3_years',\n",
       "       'OFFENSES AGAINST THE PERSON_percent_change',\n",
       "       'OTHER FELONIES_last_3_years', 'OTHER FELONIES_percent_change',\n",
       "       'OTHER MISDEMEANORS_last_3_years',\n",
       "       'OTHER MISDEMEANORS_percent_change', 'PETIT LARCENY_last_3_years',\n",
       "       'PETIT LARCENY_percent_change', 'RAPE_last_3_years',\n",
       "       'RAPE_percent_change', 'ROBBERY_last_3_years',\n",
       "       'ROBBERY_percent_change', 'TOTAL MISDEMEANOR OFFENSES_last_3_years',\n",
       "       'TOTAL MISDEMEANOR OFFENSES_percent_change',\n",
       "       'TOTAL NON-SEVEN MAJOR FELONY OFFENSES_last_3_years',\n",
       "       'TOTAL NON-SEVEN MAJOR FELONY OFFENSES_percent_change',\n",
       "       'TOTAL SEVEN MAJOR FELONY OFFENSES_last_3_years',\n",
       "       'TOTAL SEVEN MAJOR FELONY OFFENSES_percent_change',\n",
       "       'UNAUTHORIZED USE OF A VEHICLE_last_3_years',\n",
       "       'UNAUTHORIZED USE OF A VEHICLE_percent_change',\n",
       "       'VEHICLE AND TRAFFIC LAWS_last_3_years',\n",
       "       'VEHICLE AND TRAFFIC LAWS_percent_change', 'dist_to_subway',\n",
       "       'neighborhood_turnover', 'home_type_Apartment',\n",
       "       'home_type_Condominium', 'home_type_Cooperative',\n",
       "       'home_type_Duplex', 'home_type_Miscellaneous', 'home_type_Mobile',\n",
       "       'home_type_MultiFamily2To4', 'home_type_MultiFamily5Plus',\n",
       "       'home_type_Quadruplex', 'home_type_SingleFamily',\n",
       "       'home_type_Townhouse', 'home_type_Triplex', 'home_type_Unknown',\n",
       "       'neighborhood_Astoria-Long Island City',\n",
       "       'neighborhood_Battery Park', 'neighborhood_Bedford-Stuyvesant',\n",
       "       'neighborhood_Boerum Hill', 'neighborhood_Borough Park',\n",
       "       'neighborhood_Brownsville', 'neighborhood_Bushwick',\n",
       "       'neighborhood_Carnegie Hill', 'neighborhood_Carroll Gardens',\n",
       "       'neighborhood_Central Park', 'neighborhood_Chelsea',\n",
       "       'neighborhood_Chinatown', 'neighborhood_Clifton',\n",
       "       'neighborhood_Clinton', 'neighborhood_Cobble Hill',\n",
       "       'neighborhood_East Harlem', 'neighborhood_East Village',\n",
       "       'neighborhood_Financial District', 'neighborhood_Fort Green',\n",
       "       'neighborhood_Garment District', 'neighborhood_Gramercy',\n",
       "       'neighborhood_Greenwich Village', 'neighborhood_Hamilton Heights',\n",
       "       'neighborhood_Harlem', 'neighborhood_High Bridge',\n",
       "       'neighborhood_Inwood', 'neighborhood_Jackson Heights',\n",
       "       'neighborhood_Little Italy', 'neighborhood_Lower East Side',\n",
       "       'neighborhood_Midtown', 'neighborhood_Morningside Heights',\n",
       "       'neighborhood_Murray Hill', 'neighborhood_New Brighton',\n",
       "       'neighborhood_North Sutton Area', 'neighborhood_Park Slope',\n",
       "       'neighborhood_Soho', 'neighborhood_South Bronx',\n",
       "       'neighborhood_Sunny Side', 'neighborhood_Tremont',\n",
       "       'neighborhood_Tribeca', 'neighborhood_Upper East Side',\n",
       "       'neighborhood_Upper West Side', 'neighborhood_Washington Heights',\n",
       "       'neighborhood_West Village', 'neighborhood_Williamsburg',\n",
       "       'neighborhood_Yorkville'], dtype=object)"
      ]
     },
     "execution_count": 4,
     "metadata": {},
     "output_type": "execute_result"
    }
   ],
   "source": [
    "data.columns.values"
   ]
  },
  {
   "cell_type": "code",
   "execution_count": 5,
   "metadata": {
    "collapsed": false,
    "scrolled": true
   },
   "outputs": [
    {
     "data": {
      "text/html": [
       "<div>\n",
       "<table border=\"1\" class=\"dataframe\">\n",
       "  <thead>\n",
       "    <tr style=\"text-align: right;\">\n",
       "      <th></th>\n",
       "      <th>tax_value</th>\n",
       "      <th>property_size</th>\n",
       "      <th>zestimate_amount</th>\n",
       "      <th>bathrooms</th>\n",
       "      <th>tax_year</th>\n",
       "      <th>latitude</th>\n",
       "      <th>bedrooms</th>\n",
       "      <th>year_built</th>\n",
       "      <th>home_size</th>\n",
       "      <th>longitude</th>\n",
       "      <th>...</th>\n",
       "      <th>neighborhood_South Bronx</th>\n",
       "      <th>neighborhood_Sunny Side</th>\n",
       "      <th>neighborhood_Tremont</th>\n",
       "      <th>neighborhood_Tribeca</th>\n",
       "      <th>neighborhood_Upper East Side</th>\n",
       "      <th>neighborhood_Upper West Side</th>\n",
       "      <th>neighborhood_Washington Heights</th>\n",
       "      <th>neighborhood_West Village</th>\n",
       "      <th>neighborhood_Williamsburg</th>\n",
       "      <th>neighborhood_Yorkville</th>\n",
       "    </tr>\n",
       "  </thead>\n",
       "  <tbody>\n",
       "    <tr>\n",
       "      <th>0</th>\n",
       "      <td>NaN</td>\n",
       "      <td>NaN</td>\n",
       "      <td>849427.0</td>\n",
       "      <td>1.0</td>\n",
       "      <td>NaN</td>\n",
       "      <td>40.724448</td>\n",
       "      <td>1.0</td>\n",
       "      <td>NaN</td>\n",
       "      <td>400.0</td>\n",
       "      <td>-73.980284</td>\n",
       "      <td>...</td>\n",
       "      <td>0.0</td>\n",
       "      <td>0.0</td>\n",
       "      <td>0.0</td>\n",
       "      <td>0.0</td>\n",
       "      <td>0.0</td>\n",
       "      <td>0.0</td>\n",
       "      <td>0.0</td>\n",
       "      <td>0.0</td>\n",
       "      <td>0.0</td>\n",
       "      <td>0.0</td>\n",
       "    </tr>\n",
       "    <tr>\n",
       "      <th>1</th>\n",
       "      <td>1674000.0</td>\n",
       "      <td>2250.0</td>\n",
       "      <td>7332356.0</td>\n",
       "      <td>1.0</td>\n",
       "      <td>2015.0</td>\n",
       "      <td>40.724385</td>\n",
       "      <td>2.0</td>\n",
       "      <td>1900.0</td>\n",
       "      <td>10800.0</td>\n",
       "      <td>-73.980120</td>\n",
       "      <td>...</td>\n",
       "      <td>0.0</td>\n",
       "      <td>0.0</td>\n",
       "      <td>0.0</td>\n",
       "      <td>0.0</td>\n",
       "      <td>0.0</td>\n",
       "      <td>0.0</td>\n",
       "      <td>0.0</td>\n",
       "      <td>0.0</td>\n",
       "      <td>0.0</td>\n",
       "      <td>0.0</td>\n",
       "    </tr>\n",
       "    <tr>\n",
       "      <th>2</th>\n",
       "      <td>NaN</td>\n",
       "      <td>NaN</td>\n",
       "      <td>1991289.0</td>\n",
       "      <td>1.0</td>\n",
       "      <td>NaN</td>\n",
       "      <td>40.724332</td>\n",
       "      <td>4.0</td>\n",
       "      <td>NaN</td>\n",
       "      <td>NaN</td>\n",
       "      <td>-73.980007</td>\n",
       "      <td>...</td>\n",
       "      <td>0.0</td>\n",
       "      <td>0.0</td>\n",
       "      <td>0.0</td>\n",
       "      <td>0.0</td>\n",
       "      <td>0.0</td>\n",
       "      <td>0.0</td>\n",
       "      <td>0.0</td>\n",
       "      <td>0.0</td>\n",
       "      <td>0.0</td>\n",
       "      <td>0.0</td>\n",
       "    </tr>\n",
       "    <tr>\n",
       "      <th>3</th>\n",
       "      <td>2837000.0</td>\n",
       "      <td>650.0</td>\n",
       "      <td>1225236.0</td>\n",
       "      <td>1.0</td>\n",
       "      <td>2015.0</td>\n",
       "      <td>40.724225</td>\n",
       "      <td>1.0</td>\n",
       "      <td>1876.0</td>\n",
       "      <td>650.0</td>\n",
       "      <td>-73.979720</td>\n",
       "      <td>...</td>\n",
       "      <td>0.0</td>\n",
       "      <td>0.0</td>\n",
       "      <td>0.0</td>\n",
       "      <td>0.0</td>\n",
       "      <td>0.0</td>\n",
       "      <td>0.0</td>\n",
       "      <td>0.0</td>\n",
       "      <td>0.0</td>\n",
       "      <td>0.0</td>\n",
       "      <td>0.0</td>\n",
       "    </tr>\n",
       "    <tr>\n",
       "      <th>4</th>\n",
       "      <td>6701000.0</td>\n",
       "      <td>2250.0</td>\n",
       "      <td>12785150.0</td>\n",
       "      <td>NaN</td>\n",
       "      <td>2015.0</td>\n",
       "      <td>40.724125</td>\n",
       "      <td>NaN</td>\n",
       "      <td>1901.0</td>\n",
       "      <td>4168.0</td>\n",
       "      <td>-73.979495</td>\n",
       "      <td>...</td>\n",
       "      <td>0.0</td>\n",
       "      <td>0.0</td>\n",
       "      <td>0.0</td>\n",
       "      <td>0.0</td>\n",
       "      <td>0.0</td>\n",
       "      <td>0.0</td>\n",
       "      <td>0.0</td>\n",
       "      <td>0.0</td>\n",
       "      <td>0.0</td>\n",
       "      <td>0.0</td>\n",
       "    </tr>\n",
       "  </tbody>\n",
       "</table>\n",
       "<p>5 rows × 145 columns</p>\n",
       "</div>"
      ],
      "text/plain": [
       "   tax_value  property_size  zestimate_amount  bathrooms  tax_year   latitude  \\\n",
       "0        NaN            NaN          849427.0        1.0       NaN  40.724448   \n",
       "1  1674000.0         2250.0         7332356.0        1.0    2015.0  40.724385   \n",
       "2        NaN            NaN         1991289.0        1.0       NaN  40.724332   \n",
       "3  2837000.0          650.0         1225236.0        1.0    2015.0  40.724225   \n",
       "4  6701000.0         2250.0        12785150.0        NaN    2015.0  40.724125   \n",
       "\n",
       "   bedrooms  year_built  home_size  longitude           ...            \\\n",
       "0       1.0         NaN      400.0 -73.980284           ...             \n",
       "1       2.0      1900.0    10800.0 -73.980120           ...             \n",
       "2       4.0         NaN        NaN -73.980007           ...             \n",
       "3       1.0      1876.0      650.0 -73.979720           ...             \n",
       "4       NaN      1901.0     4168.0 -73.979495           ...             \n",
       "\n",
       "   neighborhood_South Bronx  neighborhood_Sunny Side  neighborhood_Tremont  \\\n",
       "0                       0.0                      0.0                   0.0   \n",
       "1                       0.0                      0.0                   0.0   \n",
       "2                       0.0                      0.0                   0.0   \n",
       "3                       0.0                      0.0                   0.0   \n",
       "4                       0.0                      0.0                   0.0   \n",
       "\n",
       "   neighborhood_Tribeca  neighborhood_Upper East Side  \\\n",
       "0                   0.0                           0.0   \n",
       "1                   0.0                           0.0   \n",
       "2                   0.0                           0.0   \n",
       "3                   0.0                           0.0   \n",
       "4                   0.0                           0.0   \n",
       "\n",
       "   neighborhood_Upper West Side  neighborhood_Washington Heights  \\\n",
       "0                           0.0                              0.0   \n",
       "1                           0.0                              0.0   \n",
       "2                           0.0                              0.0   \n",
       "3                           0.0                              0.0   \n",
       "4                           0.0                              0.0   \n",
       "\n",
       "   neighborhood_West Village  neighborhood_Williamsburg  \\\n",
       "0                        0.0                        0.0   \n",
       "1                        0.0                        0.0   \n",
       "2                        0.0                        0.0   \n",
       "3                        0.0                        0.0   \n",
       "4                        0.0                        0.0   \n",
       "\n",
       "   neighborhood_Yorkville  \n",
       "0                     0.0  \n",
       "1                     0.0  \n",
       "2                     0.0  \n",
       "3                     0.0  \n",
       "4                     0.0  \n",
       "\n",
       "[5 rows x 145 columns]"
      ]
     },
     "execution_count": 5,
     "metadata": {},
     "output_type": "execute_result"
    }
   ],
   "source": [
    "data.head()"
   ]
  },
  {
   "cell_type": "code",
   "execution_count": 6,
   "metadata": {
    "collapsed": false
   },
   "outputs": [
    {
     "name": "stderr",
     "output_type": "stream",
     "text": [
      "/Users/marinaadario/marinaadario/anaconda3/lib/python2.7/site-packages/numpy/core/_methods.py:82: RuntimeWarning: Degrees of freedom <= 0 for slice\n",
      "  warnings.warn(\"Degrees of freedom <= 0 for slice\", RuntimeWarning)\n"
     ]
    }
   ],
   "source": [
    "correlated_predictors = []\n",
    "\n",
    "for column in data.columns.values:\n",
    "    if len(data[column].unique()) == 2:\n",
    "        new_data = data[np.isfinite(data[column])]\n",
    "        data0 = new_data[new_data[column]==0]['zestimate_amount']\n",
    "        data1 = new_data[new_data[column]==1]['zestimate_amount']\n",
    "        pval = ttest_ind(data0, data1)[1]\n",
    "        if pval < 0.05:\n",
    "            correlated_predictors += [column]\n",
    "    else:\n",
    "        new_data = data[np.isfinite(data[column])]\n",
    "        corr = np.corrcoef(new_data[column], new_data['zestimate_amount'])[0,1]\n",
    "        if np.abs(corr) > 0.1:\n",
    "            correlated_predictors += [column]\n",
    "    #print \"Correlation between \" + column + \" and zestime_amount: \" + str(corr)"
   ]
  },
  {
   "cell_type": "code",
   "execution_count": 7,
   "metadata": {
    "collapsed": false
   },
   "outputs": [
    {
     "data": {
      "text/plain": [
       "72"
      ]
     },
     "execution_count": 7,
     "metadata": {},
     "output_type": "execute_result"
    }
   ],
   "source": [
    "len(correlated_predictors)"
   ]
  },
  {
   "cell_type": "code",
   "execution_count": 8,
   "metadata": {
    "collapsed": false,
    "scrolled": true
   },
   "outputs": [
    {
     "data": {
      "text/plain": [
       "['tax_value',\n",
       " 'zestimate_amount',\n",
       " 'bathrooms',\n",
       " 'latitude',\n",
       " 'bedrooms',\n",
       " 'home_size',\n",
       " 'schools_Number Tested',\n",
       " 'schools_Mean ELA Score',\n",
       " 'schools_Mean Math Score',\n",
       " 'schools_mean score',\n",
       " 'ADMINISTRATIVE CODE_last_3_years',\n",
       " 'ASSAULT 3 AND RELATED OFFENSES_last_3_years',\n",
       " 'BURGLARY_last_3_years',\n",
       " 'CRIMINAL TRESPASS_last_3_years',\n",
       " 'FELONY ASSAULT_last_3_years',\n",
       " 'FELONY DANGEROUS DRUGS_last_3_years',\n",
       " 'FELONY DANGEROUS WEAPONS_last_3_years',\n",
       " 'FORGERY_THEFT-FRAUD_IDENTITY THEFT_last_3_years',\n",
       " 'FRAUDS_percent_change',\n",
       " 'GRAND LARCENY OF MOTOR VEHICLE_last_3_years',\n",
       " 'GRAND LARCENY_last_3_years',\n",
       " 'INTOXICATED & IMPAIRED DRIVING_last_3_years',\n",
       " 'INTOXICATED & IMPAIRED DRIVING_percent_change',\n",
       " 'MISD. CRIMINAL MISCHIEF & RELATED OFFENSES_last_3_years',\n",
       " 'MISD. CRIMINAL MISCHIEF & RELATED OFFENSES_percent_change',\n",
       " 'MISDEMEANOR DANGEROUS DRUGS_last_3_years',\n",
       " 'MISDEMEANOR DANGEROUS WEAPONS_last_3_years',\n",
       " 'MISDEMEANOR SEX CRIMES_percent_change',\n",
       " 'MURDER & NON NEGL. MANSLAUGHTER_last_3_years',\n",
       " 'OFFENSES AGAINST PUBLIC ADMINISTRATION_last_3_years',\n",
       " 'OFFENSES AGAINST THE PERSON_last_3_years',\n",
       " 'OTHER FELONIES_last_3_years',\n",
       " 'PETIT LARCENY_last_3_years',\n",
       " 'RAPE_last_3_years',\n",
       " 'RAPE_percent_change',\n",
       " 'ROBBERY_last_3_years',\n",
       " 'TOTAL NON-SEVEN MAJOR FELONY OFFENSES_last_3_years',\n",
       " 'TOTAL SEVEN MAJOR FELONY OFFENSES_last_3_years',\n",
       " 'home_type_Apartment',\n",
       " 'home_type_Condominium',\n",
       " 'home_type_Cooperative',\n",
       " 'home_type_Duplex',\n",
       " 'home_type_Miscellaneous',\n",
       " 'home_type_MultiFamily2To4',\n",
       " 'home_type_Quadruplex',\n",
       " 'home_type_SingleFamily',\n",
       " 'home_type_Townhouse',\n",
       " 'home_type_Unknown',\n",
       " 'neighborhood_Battery Park',\n",
       " 'neighborhood_Bedford-Stuyvesant',\n",
       " 'neighborhood_Borough Park',\n",
       " 'neighborhood_Carnegie Hill',\n",
       " 'neighborhood_Chelsea',\n",
       " 'neighborhood_Chinatown',\n",
       " 'neighborhood_Clinton',\n",
       " 'neighborhood_East Harlem',\n",
       " 'neighborhood_East Village',\n",
       " 'neighborhood_Greenwich Village',\n",
       " 'neighborhood_Hamilton Heights',\n",
       " 'neighborhood_Harlem',\n",
       " 'neighborhood_Inwood',\n",
       " 'neighborhood_Lower East Side',\n",
       " 'neighborhood_Morningside Heights',\n",
       " 'neighborhood_North Sutton Area',\n",
       " 'neighborhood_Soho',\n",
       " 'neighborhood_Tribeca',\n",
       " 'neighborhood_Upper East Side',\n",
       " 'neighborhood_Upper West Side',\n",
       " 'neighborhood_Washington Heights',\n",
       " 'neighborhood_West Village',\n",
       " 'neighborhood_Williamsburg',\n",
       " 'neighborhood_Yorkville']"
      ]
     },
     "execution_count": 8,
     "metadata": {},
     "output_type": "execute_result"
    }
   ],
   "source": [
    "correlated_predictors"
   ]
  },
  {
   "cell_type": "code",
   "execution_count": 9,
   "metadata": {
    "collapsed": true
   },
   "outputs": [],
   "source": [
    "data_only_correlated_predictors = data[correlated_predictors]"
   ]
  },
  {
   "cell_type": "code",
   "execution_count": null,
   "metadata": {
    "collapsed": false
   },
   "outputs": [
    {
     "name": "stdout",
     "output_type": "stream",
     "text": [
      "0.8285\tschools_Number Tested, schools_Mean Math Score\n",
      "0.8093\tschools_Number Tested, schools_mean score\n",
      "0.9942\tschools_Mean ELA Score, schools_Mean Math Score\n",
      "0.9983\tschools_Mean ELA Score, schools_mean score\n",
      "0.9988\tschools_Mean Math Score, schools_mean score\n",
      "0.931\tASSAULT 3 AND RELATED OFFENSES_last_3_years, FELONY ASSAULT_last_3_years\n",
      "0.8699\tASSAULT 3 AND RELATED OFFENSES_last_3_years, FELONY DANGEROUS WEAPONS_last_3_years\n",
      "0.8323\tASSAULT 3 AND RELATED OFFENSES_last_3_years, MURDER & NON NEGL. MANSLAUGHTER_last_3_years\n",
      "0.883\tASSAULT 3 AND RELATED OFFENSES_last_3_years, OFFENSES AGAINST PUBLIC ADMINISTRATION_last_3_years\n",
      "0.864\tASSAULT 3 AND RELATED OFFENSES_last_3_years, OTHER FELONIES_last_3_years\n",
      "0.8793\tASSAULT 3 AND RELATED OFFENSES_last_3_years, RAPE_last_3_years\n",
      "0.9137\tASSAULT 3 AND RELATED OFFENSES_last_3_years, ROBBERY_last_3_years\n",
      "0.8245\tASSAULT 3 AND RELATED OFFENSES_last_3_years, TOTAL NON-SEVEN MAJOR FELONY OFFENSES_last_3_years\n",
      "0.8658\tBURGLARY_last_3_years, FORGERY_THEFT-FRAUD_IDENTITY THEFT_last_3_years\n",
      "0.8541\tBURGLARY_last_3_years, GRAND LARCENY_last_3_years\n",
      "0.9283\tBURGLARY_last_3_years, TOTAL SEVEN MAJOR FELONY OFFENSES_last_3_years\n",
      "0.9077\tFELONY ASSAULT_last_3_years, FELONY DANGEROUS WEAPONS_last_3_years\n",
      "0.8494\tFELONY ASSAULT_last_3_years, MISDEMEANOR DANGEROUS DRUGS_last_3_years\n",
      "0.8637\tFELONY ASSAULT_last_3_years, MURDER & NON NEGL. MANSLAUGHTER_last_3_years\n",
      "0.8965\tFELONY ASSAULT_last_3_years, OFFENSES AGAINST PUBLIC ADMINISTRATION_last_3_years\n",
      "0.9024\tFELONY ASSAULT_last_3_years, OTHER FELONIES_last_3_years\n",
      "0.8581\tFELONY ASSAULT_last_3_years, RAPE_last_3_years\n",
      "0.9504\tFELONY ASSAULT_last_3_years, ROBBERY_last_3_years\n",
      "0.8915\tFELONY ASSAULT_last_3_years, TOTAL NON-SEVEN MAJOR FELONY OFFENSES_last_3_years\n",
      "0.8204\tFELONY DANGEROUS DRUGS_last_3_years, FELONY DANGEROUS WEAPONS_last_3_years\n",
      "0.9341\tFELONY DANGEROUS DRUGS_last_3_years, MISDEMEANOR DANGEROUS DRUGS_last_3_years\n",
      "0.9011\tFELONY DANGEROUS DRUGS_last_3_years, TOTAL NON-SEVEN MAJOR FELONY OFFENSES_last_3_years\n",
      "0.8709\tFELONY DANGEROUS WEAPONS_last_3_years, MISDEMEANOR DANGEROUS DRUGS_last_3_years\n",
      "0.8073\tFELONY DANGEROUS WEAPONS_last_3_years, MISDEMEANOR DANGEROUS WEAPONS_last_3_years\n",
      "0.8849\tFELONY DANGEROUS WEAPONS_last_3_years, MURDER & NON NEGL. MANSLAUGHTER_last_3_years\n",
      "0.8537\tFELONY DANGEROUS WEAPONS_last_3_years, OFFENSES AGAINST PUBLIC ADMINISTRATION_last_3_years\n",
      "0.84\tFELONY DANGEROUS WEAPONS_last_3_years, OTHER FELONIES_last_3_years\n",
      "0.8598\tFELONY DANGEROUS WEAPONS_last_3_years, RAPE_last_3_years\n",
      "0.8994\tFELONY DANGEROUS WEAPONS_last_3_years, ROBBERY_last_3_years\n",
      "0.8308\tFELONY DANGEROUS WEAPONS_last_3_years, TOTAL NON-SEVEN MAJOR FELONY OFFENSES_last_3_years\n",
      "0.8319\tFORGERY_THEFT-FRAUD_IDENTITY THEFT_last_3_years, TOTAL SEVEN MAJOR FELONY OFFENSES_last_3_years\n",
      "0.8508\tGRAND LARCENY_last_3_years, PETIT LARCENY_last_3_years\n",
      "0.9596\tGRAND LARCENY_last_3_years, TOTAL SEVEN MAJOR FELONY OFFENSES_last_3_years\n",
      "0.8198\tMISDEMEANOR DANGEROUS DRUGS_last_3_years, ROBBERY_last_3_years\n",
      "0.8721\tMISDEMEANOR DANGEROUS DRUGS_last_3_years, TOTAL NON-SEVEN MAJOR FELONY OFFENSES_last_3_years\n",
      "0.8832\tMURDER & NON NEGL. MANSLAUGHTER_last_3_years, OFFENSES AGAINST PUBLIC ADMINISTRATION_last_3_years\n",
      "0.9198\tMURDER & NON NEGL. MANSLAUGHTER_last_3_years, OTHER FELONIES_last_3_years\n",
      "0.8215\tMURDER & NON NEGL. MANSLAUGHTER_last_3_years, RAPE_last_3_years\n",
      "0.8474\tMURDER & NON NEGL. MANSLAUGHTER_last_3_years, ROBBERY_last_3_years\n",
      "0.8831\tOFFENSES AGAINST PUBLIC ADMINISTRATION_last_3_years, OTHER FELONIES_last_3_years\n",
      "0.8567\tOFFENSES AGAINST PUBLIC ADMINISTRATION_last_3_years, ROBBERY_last_3_years\n",
      "0.814\tOTHER FELONIES_last_3_years, RAPE_last_3_years\n",
      "0.8641\tOTHER FELONIES_last_3_years, ROBBERY_last_3_years\n",
      "0.8438\tPETIT LARCENY_last_3_years, TOTAL SEVEN MAJOR FELONY OFFENSES_last_3_years\n",
      "0.8502\tRAPE_last_3_years, ROBBERY_last_3_years\n",
      "0.8437\tROBBERY_last_3_years, TOTAL NON-SEVEN MAJOR FELONY OFFENSES_last_3_years\n"
     ]
    }
   ],
   "source": [
    "for i in range(len(correlated_predictors)):\n",
    "    if i+1 < len(correlated_predictors) and i != 1:\n",
    "        for j in range(i, len(correlated_predictors)):\n",
    "            if i != j and j !=1:\n",
    "                column1 = correlated_predictors[i]\n",
    "                column2 = correlated_predictors[j]\n",
    "                new_data = data[np.isfinite(data[column1])]\n",
    "                new_data = new_data[np.isfinite(new_data[column2])]\n",
    "\n",
    "                corr = np.corrcoef(new_data[column1], new_data[column2])\n",
    "                if corr[0,1] > .8:\n",
    "                    print str(round(corr[0,1], 4)) + \"\\t\"+column1 + \", \" + column2 "
   ]
  },
  {
   "cell_type": "code",
   "execution_count": null,
   "metadata": {
    "collapsed": false
   },
   "outputs": [],
   "source": [
    "# Compute matrix of correlation coefficients\n",
    "corr_matrix = np.corrcoef(data[correlated_predictors])\n",
    "\n",
    "# Display heat map \n",
    "plt.subplots(1, 1, figsize=(6, 6))\n",
    "\n",
    "plt.pcolor(corr_matrix)\n",
    "\n",
    "plt.title('Heatmap of correlation matrix')\n",
    "plt.colorbar()\n",
    "\n",
    "plt.show()"
   ]
  },
  {
   "cell_type": "code",
   "execution_count": null,
   "metadata": {
    "collapsed": false
   },
   "outputs": [],
   "source": [
    "crimes = ['MURDER & NON NEGL. MANSLAUGHTER_last_3_years', 'RAPE_last_3_years',\\\n",
    " 'ROBBERY_last_3_years', 'TOTAL SEVEN MAJOR FELONY OFFENSES_last_3_years']"
   ]
  },
  {
   "cell_type": "code",
   "execution_count": null,
   "metadata": {
    "collapsed": false
   },
   "outputs": [],
   "source": [
    "for i in range(len(crimes)):\n",
    "    if i+1 < len(crimes):\n",
    "        for j in range(i, len(crimes)):\n",
    "            if i != j:\n",
    "                column1 = crimes[i]\n",
    "                column2 = crimes[j]\n",
    "                new_data = data[np.isfinite(data[column1])]\n",
    "                new_data = new_data[np.isfinite(new_data[column2])]\n",
    "\n",
    "                corr = np.corrcoef(new_data[column1], new_data[column2])\n",
    "                print str(round(corr[0,1], 4)) + \"\\t\"+column1 + \", \" + column2 "
   ]
  },
  {
   "cell_type": "code",
   "execution_count": null,
   "metadata": {
    "collapsed": true
   },
   "outputs": [],
   "source": [
    "final_predictors = ['tax_value','zestimate_amount','bathrooms', 'latitude', 'bedrooms','home_size',\\\n",
    "                    'MURDER & NON NEGL. MANSLAUGHTER_last_3_years', 'RAPE_last_3_years',\\\n",
    "                    'ROBBERY_last_3_years', 'TOTAL SEVEN MAJOR FELONY OFFENSES_last_3_years',\\\n",
    "                    'schools_Number Tested', 'schools_mean score', 'home_type_Apartment','home_type_Condominium',\\\n",
    "                    'home_type_Cooperative','home_type_Duplex','home_type_Miscellaneous','home_type_MultiFamily2To4',\\\n",
    "                    'home_type_Quadruplex','home_type_SingleFamily','home_type_Townhouse','home_type_Unknown',\\\n",
    "                    'neighborhood_Battery Park','neighborhood_Bedford-Stuyvesant','neighborhood_Borough Park',\\\n",
    "                    'neighborhood_Carnegie Hill','neighborhood_Chelsea','neighborhood_Chinatown',\\\n",
    "                    'neighborhood_Clinton','neighborhood_East Harlem','neighborhood_East Village',\\\n",
    "                    'neighborhood_Greenwich Village','neighborhood_Hamilton Heights','neighborhood_Harlem',\\\n",
    "                    'neighborhood_Inwood','neighborhood_Lower East Side','neighborhood_Morningside Heights',\\\n",
    "                    'neighborhood_North Sutton Area','neighborhood_Soho','neighborhood_Tribeca',\\\n",
    "                    'neighborhood_Upper East Side','neighborhood_Upper West Side','neighborhood_Washington Heights',\\\n",
    "                    'neighborhood_West Village','neighborhood_Williamsburg','neighborhood_Yorkville']"
   ]
  },
  {
   "cell_type": "code",
   "execution_count": null,
   "metadata": {
    "collapsed": true
   },
   "outputs": [],
   "source": [
    "data = data[final_predictors]"
   ]
  },
  {
   "cell_type": "markdown",
   "metadata": {},
   "source": [
    "### NAs"
   ]
  },
  {
   "cell_type": "code",
   "execution_count": 172,
   "metadata": {
    "collapsed": true
   },
   "outputs": [],
   "source": [
    "data = data[np.isfinite(data['bedrooms'])]\n",
    "data = data[np.isfinite(data['bathrooms'])]"
   ]
  },
  {
   "cell_type": "code",
   "execution_count": 173,
   "metadata": {
    "collapsed": false
   },
   "outputs": [],
   "source": [
    "column_names = data.columns.values"
   ]
  },
  {
   "cell_type": "code",
   "execution_count": 174,
   "metadata": {
    "collapsed": false
   },
   "outputs": [],
   "source": [
    "imputer_data = Imputer(strategy = \"median\")\n",
    "imputer_data.fit(data)\n",
    "data = imputer_data.transform(data)"
   ]
  },
  {
   "cell_type": "code",
   "execution_count": 176,
   "metadata": {
    "collapsed": true
   },
   "outputs": [],
   "source": [
    "data = pd.DataFrame(data, columns = column_names)"
   ]
  },
  {
   "cell_type": "code",
   "execution_count": 177,
   "metadata": {
    "collapsed": false,
    "scrolled": true
   },
   "outputs": [
    {
     "data": {
      "text/plain": [
       "12963"
      ]
     },
     "execution_count": 177,
     "metadata": {},
     "output_type": "execute_result"
    }
   ],
   "source": [
    "len(data)"
   ]
  },
  {
   "cell_type": "markdown",
   "metadata": {},
   "source": [
    "### Split into train and test"
   ]
  },
  {
   "cell_type": "code",
   "execution_count": 178,
   "metadata": {
    "collapsed": false
   },
   "outputs": [],
   "source": [
    "test = data.sample(n=2500)\n",
    "train = data.drop(test.index)"
   ]
  },
  {
   "cell_type": "code",
   "execution_count": 179,
   "metadata": {
    "collapsed": true
   },
   "outputs": [],
   "source": [
    "test.to_csv(\"test_best_features.csv\", index = False)\n",
    "train.to_csv(\"train_best_features.csv\", index = False)"
   ]
  },
  {
   "cell_type": "code",
   "execution_count": null,
   "metadata": {
    "collapsed": true
   },
   "outputs": [],
   "source": []
  },
  {
   "cell_type": "code",
   "execution_count": null,
   "metadata": {
    "collapsed": true
   },
   "outputs": [],
   "source": []
  }
 ],
 "metadata": {
  "anaconda-cloud": {},
  "kernelspec": {
   "display_name": "Python [default]",
   "language": "python",
   "name": "python2"
  },
  "language_info": {
   "codemirror_mode": {
    "name": "ipython",
    "version": 2
   },
   "file_extension": ".py",
   "mimetype": "text/x-python",
   "name": "python",
   "nbconvert_exporter": "python",
   "pygments_lexer": "ipython2",
   "version": "2.7.12"
  }
 },
 "nbformat": 4,
 "nbformat_minor": 1
}
