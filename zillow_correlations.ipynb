{
 "cells": [
  {
   "cell_type": "code",
   "execution_count": 160,
   "metadata": {
    "collapsed": true
   },
   "outputs": [],
   "source": [
    "import numpy as np\n",
    "import pandas as pd\n",
    "import matplotlib.pyplot as plt\n",
    "from scipy.stats import ttest_ind\n",
    "from sklearn.preprocessing import Imputer"
   ]
  },
  {
   "cell_type": "code",
   "execution_count": 161,
   "metadata": {
    "collapsed": false,
    "scrolled": true
   },
   "outputs": [],
   "source": [
    "data = pd.read_csv(\"cleaned_data_not_imputed.csv\")"
   ]
  },
  {
   "cell_type": "code",
   "execution_count": 162,
   "metadata": {
    "collapsed": false,
    "scrolled": true
   },
   "outputs": [
    {
     "data": {
      "text/html": [
       "<div>\n",
       "<table border=\"1\" class=\"dataframe\">\n",
       "  <thead>\n",
       "    <tr style=\"text-align: right;\">\n",
       "      <th></th>\n",
       "      <th>tax_value</th>\n",
       "      <th>property_size</th>\n",
       "      <th>zestimate_amount</th>\n",
       "      <th>bathrooms</th>\n",
       "      <th>tax_year</th>\n",
       "      <th>latitude</th>\n",
       "      <th>bedrooms</th>\n",
       "      <th>year_built</th>\n",
       "      <th>home_size</th>\n",
       "      <th>longitude</th>\n",
       "      <th>...</th>\n",
       "      <th>neighborhood_South Bronx</th>\n",
       "      <th>neighborhood_Sunny Side</th>\n",
       "      <th>neighborhood_Tremont</th>\n",
       "      <th>neighborhood_Tribeca</th>\n",
       "      <th>neighborhood_Upper East Side</th>\n",
       "      <th>neighborhood_Upper West Side</th>\n",
       "      <th>neighborhood_Washington Heights</th>\n",
       "      <th>neighborhood_West Village</th>\n",
       "      <th>neighborhood_Williamsburg</th>\n",
       "      <th>neighborhood_Yorkville</th>\n",
       "    </tr>\n",
       "  </thead>\n",
       "  <tbody>\n",
       "    <tr>\n",
       "      <th>0</th>\n",
       "      <td>NaN</td>\n",
       "      <td>NaN</td>\n",
       "      <td>849427.0</td>\n",
       "      <td>1.0</td>\n",
       "      <td>NaN</td>\n",
       "      <td>40.724448</td>\n",
       "      <td>1.0</td>\n",
       "      <td>NaN</td>\n",
       "      <td>400.0</td>\n",
       "      <td>-73.980284</td>\n",
       "      <td>...</td>\n",
       "      <td>0.0</td>\n",
       "      <td>0.0</td>\n",
       "      <td>0.0</td>\n",
       "      <td>0.0</td>\n",
       "      <td>0.0</td>\n",
       "      <td>0.0</td>\n",
       "      <td>0.0</td>\n",
       "      <td>0.0</td>\n",
       "      <td>0.0</td>\n",
       "      <td>0.0</td>\n",
       "    </tr>\n",
       "    <tr>\n",
       "      <th>1</th>\n",
       "      <td>1674000.0</td>\n",
       "      <td>2250.0</td>\n",
       "      <td>7332356.0</td>\n",
       "      <td>1.0</td>\n",
       "      <td>2015.0</td>\n",
       "      <td>40.724385</td>\n",
       "      <td>2.0</td>\n",
       "      <td>1900.0</td>\n",
       "      <td>10800.0</td>\n",
       "      <td>-73.980120</td>\n",
       "      <td>...</td>\n",
       "      <td>0.0</td>\n",
       "      <td>0.0</td>\n",
       "      <td>0.0</td>\n",
       "      <td>0.0</td>\n",
       "      <td>0.0</td>\n",
       "      <td>0.0</td>\n",
       "      <td>0.0</td>\n",
       "      <td>0.0</td>\n",
       "      <td>0.0</td>\n",
       "      <td>0.0</td>\n",
       "    </tr>\n",
       "    <tr>\n",
       "      <th>2</th>\n",
       "      <td>NaN</td>\n",
       "      <td>NaN</td>\n",
       "      <td>1991289.0</td>\n",
       "      <td>1.0</td>\n",
       "      <td>NaN</td>\n",
       "      <td>40.724332</td>\n",
       "      <td>4.0</td>\n",
       "      <td>NaN</td>\n",
       "      <td>NaN</td>\n",
       "      <td>-73.980007</td>\n",
       "      <td>...</td>\n",
       "      <td>0.0</td>\n",
       "      <td>0.0</td>\n",
       "      <td>0.0</td>\n",
       "      <td>0.0</td>\n",
       "      <td>0.0</td>\n",
       "      <td>0.0</td>\n",
       "      <td>0.0</td>\n",
       "      <td>0.0</td>\n",
       "      <td>0.0</td>\n",
       "      <td>0.0</td>\n",
       "    </tr>\n",
       "    <tr>\n",
       "      <th>3</th>\n",
       "      <td>2837000.0</td>\n",
       "      <td>650.0</td>\n",
       "      <td>1225236.0</td>\n",
       "      <td>1.0</td>\n",
       "      <td>2015.0</td>\n",
       "      <td>40.724225</td>\n",
       "      <td>1.0</td>\n",
       "      <td>1876.0</td>\n",
       "      <td>650.0</td>\n",
       "      <td>-73.979720</td>\n",
       "      <td>...</td>\n",
       "      <td>0.0</td>\n",
       "      <td>0.0</td>\n",
       "      <td>0.0</td>\n",
       "      <td>0.0</td>\n",
       "      <td>0.0</td>\n",
       "      <td>0.0</td>\n",
       "      <td>0.0</td>\n",
       "      <td>0.0</td>\n",
       "      <td>0.0</td>\n",
       "      <td>0.0</td>\n",
       "    </tr>\n",
       "    <tr>\n",
       "      <th>4</th>\n",
       "      <td>6701000.0</td>\n",
       "      <td>2250.0</td>\n",
       "      <td>12785150.0</td>\n",
       "      <td>NaN</td>\n",
       "      <td>2015.0</td>\n",
       "      <td>40.724125</td>\n",
       "      <td>NaN</td>\n",
       "      <td>1901.0</td>\n",
       "      <td>4168.0</td>\n",
       "      <td>-73.979495</td>\n",
       "      <td>...</td>\n",
       "      <td>0.0</td>\n",
       "      <td>0.0</td>\n",
       "      <td>0.0</td>\n",
       "      <td>0.0</td>\n",
       "      <td>0.0</td>\n",
       "      <td>0.0</td>\n",
       "      <td>0.0</td>\n",
       "      <td>0.0</td>\n",
       "      <td>0.0</td>\n",
       "      <td>0.0</td>\n",
       "    </tr>\n",
       "  </tbody>\n",
       "</table>\n",
       "<p>5 rows × 143 columns</p>\n",
       "</div>"
      ],
      "text/plain": [
       "   tax_value  property_size  zestimate_amount  bathrooms  tax_year   latitude  \\\n",
       "0        NaN            NaN          849427.0        1.0       NaN  40.724448   \n",
       "1  1674000.0         2250.0         7332356.0        1.0    2015.0  40.724385   \n",
       "2        NaN            NaN         1991289.0        1.0       NaN  40.724332   \n",
       "3  2837000.0          650.0         1225236.0        1.0    2015.0  40.724225   \n",
       "4  6701000.0         2250.0        12785150.0        NaN    2015.0  40.724125   \n",
       "\n",
       "   bedrooms  year_built  home_size  longitude           ...            \\\n",
       "0       1.0         NaN      400.0 -73.980284           ...             \n",
       "1       2.0      1900.0    10800.0 -73.980120           ...             \n",
       "2       4.0         NaN        NaN -73.980007           ...             \n",
       "3       1.0      1876.0      650.0 -73.979720           ...             \n",
       "4       NaN      1901.0     4168.0 -73.979495           ...             \n",
       "\n",
       "   neighborhood_South Bronx  neighborhood_Sunny Side  neighborhood_Tremont  \\\n",
       "0                       0.0                      0.0                   0.0   \n",
       "1                       0.0                      0.0                   0.0   \n",
       "2                       0.0                      0.0                   0.0   \n",
       "3                       0.0                      0.0                   0.0   \n",
       "4                       0.0                      0.0                   0.0   \n",
       "\n",
       "   neighborhood_Tribeca  neighborhood_Upper East Side  \\\n",
       "0                   0.0                           0.0   \n",
       "1                   0.0                           0.0   \n",
       "2                   0.0                           0.0   \n",
       "3                   0.0                           0.0   \n",
       "4                   0.0                           0.0   \n",
       "\n",
       "   neighborhood_Upper West Side  neighborhood_Washington Heights  \\\n",
       "0                           0.0                              0.0   \n",
       "1                           0.0                              0.0   \n",
       "2                           0.0                              0.0   \n",
       "3                           0.0                              0.0   \n",
       "4                           0.0                              0.0   \n",
       "\n",
       "   neighborhood_West Village  neighborhood_Williamsburg  \\\n",
       "0                        0.0                        0.0   \n",
       "1                        0.0                        0.0   \n",
       "2                        0.0                        0.0   \n",
       "3                        0.0                        0.0   \n",
       "4                        0.0                        0.0   \n",
       "\n",
       "   neighborhood_Yorkville  \n",
       "0                     0.0  \n",
       "1                     0.0  \n",
       "2                     0.0  \n",
       "3                     0.0  \n",
       "4                     0.0  \n",
       "\n",
       "[5 rows x 143 columns]"
      ]
     },
     "execution_count": 162,
     "metadata": {},
     "output_type": "execute_result"
    }
   ],
   "source": [
    "data.head()"
   ]
  },
  {
   "cell_type": "code",
   "execution_count": 163,
   "metadata": {
    "collapsed": false
   },
   "outputs": [],
   "source": [
    "correlated_predictors = []\n",
    "\n",
    "for column in data.columns.values:\n",
    "    if len(data[column].unique()) == 2:\n",
    "        new_data = data[np.isfinite(data[column])]\n",
    "        data0 = new_data[new_data[column]==0]['zestimate_amount']\n",
    "        data1 = new_data[new_data[column]==1]['zestimate_amount']\n",
    "        pval = ttest_ind(data0, data1)[1]\n",
    "        if pval < 0.05:\n",
    "            correlated_predictors += [column]\n",
    "    else:\n",
    "        new_data = data[np.isfinite(data[column])]\n",
    "        corr = np.corrcoef(new_data[column], new_data['zestimate_amount'])[0,1]\n",
    "        if np.abs(corr) > 0.1:\n",
    "            correlated_predictors += [column]\n",
    "    #print \"Correlation between \" + column + \" and zestime_amount: \" + str(corr)"
   ]
  },
  {
   "cell_type": "code",
   "execution_count": 164,
   "metadata": {
    "collapsed": false
   },
   "outputs": [
    {
     "data": {
      "text/plain": [
       "72"
      ]
     },
     "execution_count": 164,
     "metadata": {},
     "output_type": "execute_result"
    }
   ],
   "source": [
    "len(correlated_predictors)"
   ]
  },
  {
   "cell_type": "code",
   "execution_count": 165,
   "metadata": {
    "collapsed": false
   },
   "outputs": [
    {
     "data": {
      "text/plain": [
       "['tax_value',\n",
       " 'zestimate_amount',\n",
       " 'bathrooms',\n",
       " 'latitude',\n",
       " 'bedrooms',\n",
       " 'home_size',\n",
       " 'schools_Number Tested',\n",
       " 'schools_Mean ELA Score',\n",
       " 'schools_Mean Math Score',\n",
       " 'schools_mean score',\n",
       " 'ADMINISTRATIVE CODE_last_3_years',\n",
       " 'ASSAULT 3 AND RELATED OFFENSES_last_3_years',\n",
       " 'BURGLARY_last_3_years',\n",
       " 'CRIMINAL TRESPASS_last_3_years',\n",
       " 'FELONY ASSAULT_last_3_years',\n",
       " 'FELONY DANGEROUS DRUGS_last_3_years',\n",
       " 'FELONY DANGEROUS WEAPONS_last_3_years',\n",
       " 'FORGERY_THEFT-FRAUD_IDENTITY THEFT_last_3_years',\n",
       " 'FRAUDS_percent_change',\n",
       " 'GRAND LARCENY OF MOTOR VEHICLE_last_3_years',\n",
       " 'GRAND LARCENY_last_3_years',\n",
       " 'INTOXICATED & IMPAIRED DRIVING_last_3_years',\n",
       " 'INTOXICATED & IMPAIRED DRIVING_percent_change',\n",
       " 'MISD. CRIMINAL MISCHIEF & RELATED OFFENSES_last_3_years',\n",
       " 'MISD. CRIMINAL MISCHIEF & RELATED OFFENSES_percent_change',\n",
       " 'MISDEMEANOR DANGEROUS DRUGS_last_3_years',\n",
       " 'MISDEMEANOR DANGEROUS WEAPONS_last_3_years',\n",
       " 'MISDEMEANOR SEX CRIMES_percent_change',\n",
       " 'MURDER & NON NEGL. MANSLAUGHTER_last_3_years',\n",
       " 'OFFENSES AGAINST PUBLIC ADMINISTRATION_last_3_years',\n",
       " 'OFFENSES AGAINST THE PERSON_last_3_years',\n",
       " 'OTHER FELONIES_last_3_years',\n",
       " 'PETIT LARCENY_last_3_years',\n",
       " 'RAPE_last_3_years',\n",
       " 'RAPE_percent_change',\n",
       " 'ROBBERY_last_3_years',\n",
       " 'TOTAL NON-SEVEN MAJOR FELONY OFFENSES_last_3_years',\n",
       " 'TOTAL SEVEN MAJOR FELONY OFFENSES_last_3_years',\n",
       " 'home_type_Apartment',\n",
       " 'home_type_Condominium',\n",
       " 'home_type_Cooperative',\n",
       " 'home_type_Duplex',\n",
       " 'home_type_Miscellaneous',\n",
       " 'home_type_MultiFamily2To4',\n",
       " 'home_type_Quadruplex',\n",
       " 'home_type_SingleFamily',\n",
       " 'home_type_Townhouse',\n",
       " 'home_type_Unknown',\n",
       " 'neighborhood_Battery Park',\n",
       " 'neighborhood_Bedford-Stuyvesant',\n",
       " 'neighborhood_Borough Park',\n",
       " 'neighborhood_Carnegie Hill',\n",
       " 'neighborhood_Chelsea',\n",
       " 'neighborhood_Chinatown',\n",
       " 'neighborhood_Clinton',\n",
       " 'neighborhood_East Harlem',\n",
       " 'neighborhood_East Village',\n",
       " 'neighborhood_Greenwich Village',\n",
       " 'neighborhood_Hamilton Heights',\n",
       " 'neighborhood_Harlem',\n",
       " 'neighborhood_Inwood',\n",
       " 'neighborhood_Lower East Side',\n",
       " 'neighborhood_Morningside Heights',\n",
       " 'neighborhood_North Sutton Area',\n",
       " 'neighborhood_Soho',\n",
       " 'neighborhood_Tribeca',\n",
       " 'neighborhood_Upper East Side',\n",
       " 'neighborhood_Upper West Side',\n",
       " 'neighborhood_Washington Heights',\n",
       " 'neighborhood_West Village',\n",
       " 'neighborhood_Williamsburg',\n",
       " 'neighborhood_Yorkville']"
      ]
     },
     "execution_count": 165,
     "metadata": {},
     "output_type": "execute_result"
    }
   ],
   "source": [
    "correlated_predictors"
   ]
  },
  {
   "cell_type": "code",
   "execution_count": 166,
   "metadata": {
    "collapsed": true
   },
   "outputs": [],
   "source": [
    "data_only_correlated_predictors = data[correlated_predictors]"
   ]
  },
  {
   "cell_type": "code",
   "execution_count": 167,
   "metadata": {
    "collapsed": false
   },
   "outputs": [
    {
     "name": "stdout",
     "output_type": "stream",
     "text": [
      "0.8268\tschools_Number Tested, schools_Mean Math Score\n",
      "0.8075\tschools_Number Tested, schools_mean score\n",
      "0.9942\tschools_Mean ELA Score, schools_Mean Math Score\n",
      "0.9982\tschools_Mean ELA Score, schools_mean score\n",
      "0.9988\tschools_Mean Math Score, schools_mean score\n",
      "0.9299\tASSAULT 3 AND RELATED OFFENSES_last_3_years, FELONY ASSAULT_last_3_years\n",
      "0.8679\tASSAULT 3 AND RELATED OFFENSES_last_3_years, FELONY DANGEROUS WEAPONS_last_3_years\n",
      "0.8308\tASSAULT 3 AND RELATED OFFENSES_last_3_years, MURDER & NON NEGL. MANSLAUGHTER_last_3_years\n",
      "0.8805\tASSAULT 3 AND RELATED OFFENSES_last_3_years, OFFENSES AGAINST PUBLIC ADMINISTRATION_last_3_years\n",
      "0.8614\tASSAULT 3 AND RELATED OFFENSES_last_3_years, OTHER FELONIES_last_3_years\n",
      "0.8779\tASSAULT 3 AND RELATED OFFENSES_last_3_years, RAPE_last_3_years\n",
      "0.9119\tASSAULT 3 AND RELATED OFFENSES_last_3_years, ROBBERY_last_3_years\n",
      "0.8205\tASSAULT 3 AND RELATED OFFENSES_last_3_years, TOTAL NON-SEVEN MAJOR FELONY OFFENSES_last_3_years\n",
      "0.8646\tBURGLARY_last_3_years, FORGERY_THEFT-FRAUD_IDENTITY THEFT_last_3_years\n",
      "0.8536\tBURGLARY_last_3_years, GRAND LARCENY_last_3_years\n",
      "0.9276\tBURGLARY_last_3_years, TOTAL SEVEN MAJOR FELONY OFFENSES_last_3_years\n",
      "0.9064\tFELONY ASSAULT_last_3_years, FELONY DANGEROUS WEAPONS_last_3_years\n",
      "0.848\tFELONY ASSAULT_last_3_years, MISDEMEANOR DANGEROUS DRUGS_last_3_years\n",
      "0.8628\tFELONY ASSAULT_last_3_years, MURDER & NON NEGL. MANSLAUGHTER_last_3_years\n",
      "0.8947\tFELONY ASSAULT_last_3_years, OFFENSES AGAINST PUBLIC ADMINISTRATION_last_3_years\n",
      "0.9003\tFELONY ASSAULT_last_3_years, OTHER FELONIES_last_3_years\n",
      "0.8558\tFELONY ASSAULT_last_3_years, RAPE_last_3_years\n",
      "0.9494\tFELONY ASSAULT_last_3_years, ROBBERY_last_3_years\n",
      "0.89\tFELONY ASSAULT_last_3_years, TOTAL NON-SEVEN MAJOR FELONY OFFENSES_last_3_years\n",
      "0.818\tFELONY DANGEROUS DRUGS_last_3_years, FELONY DANGEROUS WEAPONS_last_3_years\n",
      "0.9336\tFELONY DANGEROUS DRUGS_last_3_years, MISDEMEANOR DANGEROUS DRUGS_last_3_years\n",
      "0.9007\tFELONY DANGEROUS DRUGS_last_3_years, TOTAL NON-SEVEN MAJOR FELONY OFFENSES_last_3_years\n",
      "0.8694\tFELONY DANGEROUS WEAPONS_last_3_years, MISDEMEANOR DANGEROUS DRUGS_last_3_years\n",
      "0.8056\tFELONY DANGEROUS WEAPONS_last_3_years, MISDEMEANOR DANGEROUS WEAPONS_last_3_years\n",
      "0.8838\tFELONY DANGEROUS WEAPONS_last_3_years, MURDER & NON NEGL. MANSLAUGHTER_last_3_years\n",
      "0.8515\tFELONY DANGEROUS WEAPONS_last_3_years, OFFENSES AGAINST PUBLIC ADMINISTRATION_last_3_years\n",
      "0.8375\tFELONY DANGEROUS WEAPONS_last_3_years, OTHER FELONIES_last_3_years\n",
      "0.8581\tFELONY DANGEROUS WEAPONS_last_3_years, RAPE_last_3_years\n",
      "0.8982\tFELONY DANGEROUS WEAPONS_last_3_years, ROBBERY_last_3_years\n",
      "0.8286\tFELONY DANGEROUS WEAPONS_last_3_years, TOTAL NON-SEVEN MAJOR FELONY OFFENSES_last_3_years\n",
      "0.8304\tFORGERY_THEFT-FRAUD_IDENTITY THEFT_last_3_years, TOTAL SEVEN MAJOR FELONY OFFENSES_last_3_years\n",
      "0.8531\tGRAND LARCENY_last_3_years, PETIT LARCENY_last_3_years\n",
      "0.9605\tGRAND LARCENY_last_3_years, TOTAL SEVEN MAJOR FELONY OFFENSES_last_3_years\n",
      "0.8183\tMISDEMEANOR DANGEROUS DRUGS_last_3_years, ROBBERY_last_3_years\n",
      "0.8725\tMISDEMEANOR DANGEROUS DRUGS_last_3_years, TOTAL NON-SEVEN MAJOR FELONY OFFENSES_last_3_years\n",
      "0.8828\tMURDER & NON NEGL. MANSLAUGHTER_last_3_years, OFFENSES AGAINST PUBLIC ADMINISTRATION_last_3_years\n",
      "0.9197\tMURDER & NON NEGL. MANSLAUGHTER_last_3_years, OTHER FELONIES_last_3_years\n",
      "0.82\tMURDER & NON NEGL. MANSLAUGHTER_last_3_years, RAPE_last_3_years\n",
      "0.8466\tMURDER & NON NEGL. MANSLAUGHTER_last_3_years, ROBBERY_last_3_years\n",
      "0.8809\tOFFENSES AGAINST PUBLIC ADMINISTRATION_last_3_years, OTHER FELONIES_last_3_years\n",
      "0.8534\tOFFENSES AGAINST PUBLIC ADMINISTRATION_last_3_years, ROBBERY_last_3_years\n",
      "0.811\tOTHER FELONIES_last_3_years, RAPE_last_3_years\n",
      "0.8611\tOTHER FELONIES_last_3_years, ROBBERY_last_3_years\n",
      "0.8424\tPETIT LARCENY_last_3_years, TOTAL SEVEN MAJOR FELONY OFFENSES_last_3_years\n",
      "0.8481\tRAPE_last_3_years, ROBBERY_last_3_years\n",
      "0.8399\tROBBERY_last_3_years, TOTAL NON-SEVEN MAJOR FELONY OFFENSES_last_3_years\n"
     ]
    }
   ],
   "source": [
    "for i in range(len(correlated_predictors)):\n",
    "    if i+1 < len(correlated_predictors) and i != 1:\n",
    "        for j in range(i, len(correlated_predictors)):\n",
    "            if i != j and j !=1:\n",
    "                column1 = correlated_predictors[i]\n",
    "                column2 = correlated_predictors[j]\n",
    "                new_data = data[np.isfinite(data[column1])]\n",
    "                new_data = new_data[np.isfinite(new_data[column2])]\n",
    "\n",
    "                corr = np.corrcoef(new_data[column1], new_data[column2])\n",
    "                if corr[0,1] > .8:\n",
    "                    print str(round(corr[0,1], 4)) + \"\\t\"+column1 + \", \" + column2 "
   ]
  },
  {
   "cell_type": "code",
   "execution_count": 168,
   "metadata": {
    "collapsed": false
   },
   "outputs": [],
   "source": [
    "crimes = ['MURDER & NON NEGL. MANSLAUGHTER_last_3_years', 'RAPE_last_3_years',\\\n",
    " 'ROBBERY_last_3_years', 'TOTAL SEVEN MAJOR FELONY OFFENSES_last_3_years']"
   ]
  },
  {
   "cell_type": "code",
   "execution_count": 169,
   "metadata": {
    "collapsed": false
   },
   "outputs": [
    {
     "name": "stdout",
     "output_type": "stream",
     "text": [
      "0.82\tMURDER & NON NEGL. MANSLAUGHTER_last_3_years, RAPE_last_3_years\n",
      "0.8466\tMURDER & NON NEGL. MANSLAUGHTER_last_3_years, ROBBERY_last_3_years\n",
      "-0.4029\tMURDER & NON NEGL. MANSLAUGHTER_last_3_years, TOTAL SEVEN MAJOR FELONY OFFENSES_last_3_years\n",
      "0.8481\tRAPE_last_3_years, ROBBERY_last_3_years\n",
      "-0.2312\tRAPE_last_3_years, TOTAL SEVEN MAJOR FELONY OFFENSES_last_3_years\n",
      "-0.2153\tROBBERY_last_3_years, TOTAL SEVEN MAJOR FELONY OFFENSES_last_3_years\n"
     ]
    }
   ],
   "source": [
    "for i in range(len(crimes)):\n",
    "    if i+1 < len(crimes):\n",
    "        for j in range(i, len(crimes)):\n",
    "            if i != j:\n",
    "                column1 = crimes[i]\n",
    "                column2 = crimes[j]\n",
    "                new_data = data[np.isfinite(data[column1])]\n",
    "                new_data = new_data[np.isfinite(new_data[column2])]\n",
    "\n",
    "                corr = np.corrcoef(new_data[column1], new_data[column2])\n",
    "                print str(round(corr[0,1], 4)) + \"\\t\"+column1 + \", \" + column2 "
   ]
  },
  {
   "cell_type": "code",
   "execution_count": 170,
   "metadata": {
    "collapsed": true
   },
   "outputs": [],
   "source": [
    "final_predictors = ['tax_value','zestimate_amount','bathrooms', 'latitude', 'bedrooms','home_size',\\\n",
    "                    'MURDER & NON NEGL. MANSLAUGHTER_last_3_years', 'RAPE_last_3_years',\\\n",
    "                    'ROBBERY_last_3_years', 'TOTAL SEVEN MAJOR FELONY OFFENSES_last_3_years',\\\n",
    "                    'schools_Number Tested', 'schools_mean score', 'home_type_Apartment','home_type_Condominium',\\\n",
    "                    'home_type_Cooperative','home_type_Duplex','home_type_Miscellaneous','home_type_MultiFamily2To4',\\\n",
    "                    'home_type_Quadruplex','home_type_SingleFamily','home_type_Townhouse','home_type_Unknown',\\\n",
    "                    'neighborhood_Battery Park','neighborhood_Bedford-Stuyvesant','neighborhood_Borough Park',\\\n",
    "                    'neighborhood_Carnegie Hill','neighborhood_Chelsea','neighborhood_Chinatown',\\\n",
    "                    'neighborhood_Clinton','neighborhood_East Harlem','neighborhood_East Village',\\\n",
    "                    'neighborhood_Greenwich Village','neighborhood_Hamilton Heights','neighborhood_Harlem',\\\n",
    "                    'neighborhood_Inwood','neighborhood_Lower East Side','neighborhood_Morningside Heights',\\\n",
    "                    'neighborhood_North Sutton Area','neighborhood_Soho','neighborhood_Tribeca',\\\n",
    "                    'neighborhood_Upper East Side','neighborhood_Upper West Side','neighborhood_Washington Heights',\\\n",
    "                    'neighborhood_West Village','neighborhood_Williamsburg','neighborhood_Yorkville']"
   ]
  },
  {
   "cell_type": "code",
   "execution_count": 171,
   "metadata": {
    "collapsed": true
   },
   "outputs": [],
   "source": [
    "data = data[final_predictors]"
   ]
  },
  {
   "cell_type": "markdown",
   "metadata": {},
   "source": [
    "### NAs"
   ]
  },
  {
   "cell_type": "code",
   "execution_count": 172,
   "metadata": {
    "collapsed": true
   },
   "outputs": [],
   "source": [
    "data = data[np.isfinite(data['bedrooms'])]\n",
    "data = data[np.isfinite(data['bathrooms'])]"
   ]
  },
  {
   "cell_type": "code",
   "execution_count": 173,
   "metadata": {
    "collapsed": false
   },
   "outputs": [],
   "source": [
    "column_names = data.columns.values"
   ]
  },
  {
   "cell_type": "code",
   "execution_count": 174,
   "metadata": {
    "collapsed": false
   },
   "outputs": [],
   "source": [
    "imputer_data = Imputer(strategy = \"median\")\n",
    "imputer_data.fit(data)\n",
    "data = imputer_data.transform(data)"
   ]
  },
  {
   "cell_type": "code",
   "execution_count": 176,
   "metadata": {
    "collapsed": true
   },
   "outputs": [],
   "source": [
    "data = pd.DataFrame(data, columns = column_names)"
   ]
  },
  {
   "cell_type": "code",
   "execution_count": 177,
   "metadata": {
    "collapsed": false,
    "scrolled": true
   },
   "outputs": [
    {
     "data": {
      "text/plain": [
       "12963"
      ]
     },
     "execution_count": 177,
     "metadata": {},
     "output_type": "execute_result"
    }
   ],
   "source": [
    "len(data)"
   ]
  },
  {
   "cell_type": "markdown",
   "metadata": {},
   "source": [
    "### Split into train and test"
   ]
  },
  {
   "cell_type": "code",
   "execution_count": 178,
   "metadata": {
    "collapsed": false
   },
   "outputs": [],
   "source": [
    "test = data.sample(n=2500)\n",
    "train = data.drop(test.index)"
   ]
  },
  {
   "cell_type": "code",
   "execution_count": 179,
   "metadata": {
    "collapsed": true
   },
   "outputs": [],
   "source": [
    "test.to_csv(\"test_best_features.csv\", index = False)\n",
    "train.to_csv(\"train_best_features.csv\", index = False)"
   ]
  },
  {
   "cell_type": "code",
   "execution_count": null,
   "metadata": {
    "collapsed": true
   },
   "outputs": [],
   "source": []
  },
  {
   "cell_type": "code",
   "execution_count": null,
   "metadata": {
    "collapsed": true
   },
   "outputs": [],
   "source": []
  }
 ],
 "metadata": {
  "anaconda-cloud": {},
  "kernelspec": {
   "display_name": "Python [default]",
   "language": "python",
   "name": "python2"
  },
  "language_info": {
   "codemirror_mode": {
    "name": "ipython",
    "version": 2
   },
   "file_extension": ".py",
   "mimetype": "text/x-python",
   "name": "python",
   "nbconvert_exporter": "python",
   "pygments_lexer": "ipython2",
   "version": "2.7.12"
  }
 },
 "nbformat": 4,
 "nbformat_minor": 1
}
