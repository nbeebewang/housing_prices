{
 "cells": [
  {
   "cell_type": "code",
   "execution_count": 1,
   "metadata": {
    "collapsed": true
   },
   "outputs": [],
   "source": [
    "# ONLY USE THIS BLOCK OF CODE ON NICASIA'S COMPUTER \n",
    "import sys\n",
    "sys.path.append(\"/anaconda/lib/python2.7/site-packages\")\n",
    "#####\n",
    "\n",
    "\n",
    "import pandas as pd\n",
    "import numpy as np\n",
    "from matplotlib.patches import Polygon\n",
    "from sklearn.preprocessing import Imputer\n",
    "from sklearn.preprocessing import StandardScaler as Standardize\n",
    "from sklearn.linear_model import LinearRegression as Lin_Reg\n",
    "from sklearn.linear_model import Ridge as Ridge_Reg\n",
    "from sklearn.linear_model import Lasso as Lasso_Reg\n",
    "from sklearn.preprocessing import PolynomialFeatures\n",
    "from sklearn import ensemble\n",
    "from sklearn.pipeline import Pipeline\n",
    "from sklearn.preprocessing import StandardScaler\n",
    "from statsmodels.regression.linear_model import OLS\n",
    "import string\n",
    "import matplotlib.pyplot as plt\n",
    "%matplotlib inline\n",
    "import math"
   ]
  },
  {
   "cell_type": "code",
   "execution_count": 9,
   "metadata": {
    "collapsed": false
   },
   "outputs": [],
   "source": [
    "data = pd.read_csv(\"cleaned_data.csv\")\n",
    "y_train = train['zestimate_amount']\n",
    "x_test = test.drop(['zestimate_amount'], 1)\n",
    "y_test = test['zestimate_amount']"
   ]
  },
  {
   "cell_type": "code",
   "execution_count": 8,
   "metadata": {
    "collapsed": false
   },
   "outputs": [
    {
     "data": {
      "text/plain": [
       "tax_value                                                           NaN\n",
       "property_size                                                       NaN\n",
       "bathrooms                                                      1.000000\n",
       "tax_year                                                            NaN\n",
       "latitude                                                      40.725257\n",
       "bedrooms                                                       0.000000\n",
       "year_built                                                          NaN\n",
       "home_size                                                    400.000000\n",
       "longitude                                                    -73.982924\n",
       "schools_Number Tested                                       4581.000000\n",
       "schools_Mean ELA Score                                       307.000000\n",
       "schools_Mean Math Score                                      306.863200\n",
       "schools_mean score                                           307.003400\n",
       "ADMINISTRATIVE CODE_last_3_years                               2.333333\n",
       "ADMINISTRATIVE CODE_percent_change                            36.363636\n",
       "AGGRAVATED HARASSMENT 2_last_3_years                         195.333333\n",
       "AGGRAVATED HARASSMENT 2_percent_change                        24.871795\n",
       "ARSON_last_3_years                                            13.333333\n",
       "ARSON_percent_change                                         -11.111111\n",
       "ASSAULT 3 AND RELATED OFFENSES_last_3_years                  462.000000\n",
       "ASSAULT 3 AND RELATED OFFENSES_percent_change                  7.290970\n",
       "BURGLARY_last_3_years                                        146.000000\n",
       "BURGLARY_percent_change                                       29.581994\n",
       "CRIMINAL TRESPASS_last_3_years                               228.333333\n",
       "CRIMINAL TRESPASS_percent_change                               4.329609\n",
       "FEL. CRIMINAL MISCHIEF & RELATED OFFENSES_last_3_years        38.333333\n",
       "FEL. CRIMINAL MISCHIEF & RELATED OFFENSES_percent_change      36.813187\n",
       "FELONY ASSAULT_last_3_years                                  143.333333\n",
       "FELONY ASSAULT_percent_change                                  7.327586\n",
       "FELONY DANGEROUS DRUGS_last_3_years                          365.000000\n",
       "                                                               ...     \n",
       "neighborhood_Williamsburg                                      0.000000\n",
       "neighborhood_Yorkville                                         0.000000\n",
       "schooldistrict_string_1.0                                      1.000000\n",
       "schooldistrict_string_2.0                                      0.000000\n",
       "schooldistrict_string_3.0                                      0.000000\n",
       "schooldistrict_string_4.0                                      0.000000\n",
       "schooldistrict_string_5.0                                      0.000000\n",
       "schooldistrict_string_6.0                                      0.000000\n",
       "precinct_string_1.0                                            0.000000\n",
       "precinct_string_10.0                                           0.000000\n",
       "precinct_string_13.0                                           0.000000\n",
       "precinct_string_14.0                                           0.000000\n",
       "precinct_string_17.0                                           0.000000\n",
       "precinct_string_18.0                                           0.000000\n",
       "precinct_string_19.0                                           0.000000\n",
       "precinct_string_20.0                                           0.000000\n",
       "precinct_string_22.0                                           0.000000\n",
       "precinct_string_23.0                                           0.000000\n",
       "precinct_string_24.0                                           0.000000\n",
       "precinct_string_25.0                                           0.000000\n",
       "precinct_string_26.0                                           0.000000\n",
       "precinct_string_28.0                                           0.000000\n",
       "precinct_string_30.0                                           0.000000\n",
       "precinct_string_32.0                                           0.000000\n",
       "precinct_string_33.0                                           0.000000\n",
       "precinct_string_34.0                                           0.000000\n",
       "precinct_string_5.0                                            0.000000\n",
       "precinct_string_6.0                                            0.000000\n",
       "precinct_string_7.0                                            0.000000\n",
       "precinct_string_9.0                                            1.000000\n",
       "Name: 200, dtype: float64"
      ]
     },
     "execution_count": 8,
     "metadata": {},
     "output_type": "execute_result"
    }
   ],
   "source": [
    "pd.concat([x_train, x_test]).iloc[200]"
   ]
  },
  {
   "cell_type": "code",
   "execution_count": null,
   "metadata": {
    "collapsed": true
   },
   "outputs": [],
   "source": []
  }
 ],
 "metadata": {
  "kernelspec": {
   "display_name": "Python 2",
   "language": "python",
   "name": "python2"
  },
  "language_info": {
   "codemirror_mode": {
    "name": "ipython",
    "version": 2
   },
   "file_extension": ".py",
   "mimetype": "text/x-python",
   "name": "python",
   "nbconvert_exporter": "python",
   "pygments_lexer": "ipython2",
   "version": "2.7.12"
  }
 },
 "nbformat": 4,
 "nbformat_minor": 0
}
