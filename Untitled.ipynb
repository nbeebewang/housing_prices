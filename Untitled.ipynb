{
 "cells": [
  {
   "cell_type": "code",
   "execution_count": 1,
   "metadata": {
    "collapsed": true
   },
   "outputs": [],
   "source": [
    "# ONLY USE THIS BLOCK OF CODE ON NICASIA'S COMPUTER \n",
    "import sys\n",
    "sys.path.append(\"/anaconda/lib/python2.7/site-packages\")\n",
    "#####\n",
    "\n",
    "\n",
    "import pandas as pd\n",
    "import numpy as np\n",
    "from matplotlib.patches import Polygon\n",
    "from sklearn.preprocessing import Imputer\n",
    "from sklearn.preprocessing import StandardScaler as Standardize\n",
    "from sklearn.linear_model import LinearRegression as Lin_Reg\n",
    "from sklearn.linear_model import Ridge as Ridge_Reg\n",
    "from sklearn.linear_model import Lasso as Lasso_Reg\n",
    "from sklearn.preprocessing import PolynomialFeatures\n",
    "from sklearn import ensemble\n",
    "from sklearn.pipeline import Pipeline\n",
    "from sklearn.preprocessing import StandardScaler\n",
    "from statsmodels.regression.linear_model import OLS\n",
    "import string\n",
    "import matplotlib.pyplot as plt\n",
    "%matplotlib inline\n",
    "import math"
   ]
  },
  {
   "cell_type": "code",
   "execution_count": 20,
   "metadata": {
    "collapsed": false
   },
   "outputs": [],
   "source": [
    "data = pd.read_csv(\"cleaned_data_not_imputed.csv\")\n",
    "y = data['zestimate_amount']\n",
    "x = data.drop(['zestimate_amount'], 1)"
   ]
  },
  {
   "cell_type": "code",
   "execution_count": 21,
   "metadata": {
    "collapsed": false
   },
   "outputs": [
    {
     "data": {
      "text/plain": [
       "array([ nan])"
      ]
     },
     "execution_count": 21,
     "metadata": {},
     "output_type": "execute_result"
    }
   ],
   "source": [
    "np.correlate(x[\"tax_value\"], y)"
   ]
  },
  {
   "cell_type": "code",
   "execution_count": 19,
   "metadata": {
    "collapsed": false
   },
   "outputs": [
    {
     "data": {
      "text/plain": [
       "Index([u'tax_value', u'property_size', u'bathrooms', u'tax_year', u'latitude',\n",
       "       u'bedrooms', u'year_built', u'home_size', u'longitude',\n",
       "       u'schools_Number Tested',\n",
       "       ...\n",
       "       u'neighborhood_South Bronx', u'neighborhood_Sunny Side',\n",
       "       u'neighborhood_Tremont', u'neighborhood_Tribeca',\n",
       "       u'neighborhood_Upper East Side', u'neighborhood_Upper West Side',\n",
       "       u'neighborhood_Washington Heights', u'neighborhood_West Village',\n",
       "       u'neighborhood_Williamsburg', u'neighborhood_Yorkville'],\n",
       "      dtype='object', length=142)"
      ]
     },
     "execution_count": 19,
     "metadata": {},
     "output_type": "execute_result"
    }
   ],
   "source": [
    "x.columns"
   ]
  },
  {
   "cell_type": "code",
   "execution_count": null,
   "metadata": {
    "collapsed": true
   },
   "outputs": [],
   "source": []
  }
 ],
 "metadata": {
  "kernelspec": {
   "display_name": "Python 2",
   "language": "python",
   "name": "python2"
  },
  "language_info": {
   "codemirror_mode": {
    "name": "ipython",
    "version": 2
   },
   "file_extension": ".py",
   "mimetype": "text/x-python",
   "name": "python",
   "nbconvert_exporter": "python",
   "pygments_lexer": "ipython2",
   "version": "2.7.12"
  }
 },
 "nbformat": 4,
 "nbformat_minor": 0
}
