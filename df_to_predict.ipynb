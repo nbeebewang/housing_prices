{
 "cells": [
  {
   "cell_type": "code",
   "execution_count": 1,
   "metadata": {
    "collapsed": true
   },
   "outputs": [],
   "source": [
    "import numpy as np \n",
    "import pandas as pd "
   ]
  },
  {
   "cell_type": "code",
   "execution_count": 2,
   "metadata": {
    "collapsed": false
   },
   "outputs": [],
   "source": [
    "data = pd.read_csv(\"mn_crimes_and_schools.csv\")"
   ]
  },
  {
   "cell_type": "code",
   "execution_count": 3,
   "metadata": {
    "collapsed": false
   },
   "outputs": [
    {
     "data": {
      "text/html": [
       "<div>\n",
       "<table border=\"1\" class=\"dataframe\">\n",
       "  <thead>\n",
       "    <tr style=\"text-align: right;\">\n",
       "      <th></th>\n",
       "      <th>tax_value</th>\n",
       "      <th>last_sold_price</th>\n",
       "      <th>property_size</th>\n",
       "      <th>zestimate_amount</th>\n",
       "      <th>bathrooms</th>\n",
       "      <th>zestimate_valuation_range_high</th>\n",
       "      <th>tax_year</th>\n",
       "      <th>zestimate_value_change</th>\n",
       "      <th>latitude</th>\n",
       "      <th>zestimate_percentile</th>\n",
       "      <th>...</th>\n",
       "      <th>TOTAL MISDEMEANOR OFFENSES_last_3_years</th>\n",
       "      <th>TOTAL MISDEMEANOR OFFENSES_percent_change</th>\n",
       "      <th>TOTAL NON-SEVEN MAJOR FELONY OFFENSES_last_3_years</th>\n",
       "      <th>TOTAL NON-SEVEN MAJOR FELONY OFFENSES_percent_change</th>\n",
       "      <th>TOTAL SEVEN MAJOR FELONY OFFENSES_last_3_years</th>\n",
       "      <th>TOTAL SEVEN MAJOR FELONY OFFENSES_percent_change</th>\n",
       "      <th>UNAUTHORIZED USE OF A VEHICLE_last_3_years</th>\n",
       "      <th>UNAUTHORIZED USE OF A VEHICLE_percent_change</th>\n",
       "      <th>VEHICLE AND TRAFFIC LAWS_last_3_years</th>\n",
       "      <th>VEHICLE AND TRAFFIC LAWS_percent_change</th>\n",
       "    </tr>\n",
       "  </thead>\n",
       "  <tbody>\n",
       "    <tr>\n",
       "      <th>0</th>\n",
       "      <td>NaN</td>\n",
       "      <td>NaN</td>\n",
       "      <td>NaN</td>\n",
       "      <td>849427.0</td>\n",
       "      <td>1.0</td>\n",
       "      <td>1044795.0</td>\n",
       "      <td>NaN</td>\n",
       "      <td>NaN</td>\n",
       "      <td>40.724448</td>\n",
       "      <td>0.0</td>\n",
       "      <td>...</td>\n",
       "      <td>4072.666667</td>\n",
       "      <td>11.540689</td>\n",
       "      <td>678.666667</td>\n",
       "      <td>0.342633</td>\n",
       "      <td>1364.0</td>\n",
       "      <td>1.539942</td>\n",
       "      <td>5.333333</td>\n",
       "      <td>15.789474</td>\n",
       "      <td>39.333333</td>\n",
       "      <td>-8.256881</td>\n",
       "    </tr>\n",
       "    <tr>\n",
       "      <th>1</th>\n",
       "      <td>1642000.0</td>\n",
       "      <td>NaN</td>\n",
       "      <td>2250.0</td>\n",
       "      <td>NaN</td>\n",
       "      <td>2.0</td>\n",
       "      <td>NaN</td>\n",
       "      <td>2015.0</td>\n",
       "      <td>NaN</td>\n",
       "      <td>40.724420</td>\n",
       "      <td>0.0</td>\n",
       "      <td>...</td>\n",
       "      <td>4072.666667</td>\n",
       "      <td>11.540689</td>\n",
       "      <td>678.666667</td>\n",
       "      <td>0.342633</td>\n",
       "      <td>1364.0</td>\n",
       "      <td>1.539942</td>\n",
       "      <td>5.333333</td>\n",
       "      <td>15.789474</td>\n",
       "      <td>39.333333</td>\n",
       "      <td>-8.256881</td>\n",
       "    </tr>\n",
       "    <tr>\n",
       "      <th>2</th>\n",
       "      <td>1674000.0</td>\n",
       "      <td>NaN</td>\n",
       "      <td>2250.0</td>\n",
       "      <td>7332356.0</td>\n",
       "      <td>1.0</td>\n",
       "      <td>7992268.0</td>\n",
       "      <td>2015.0</td>\n",
       "      <td>NaN</td>\n",
       "      <td>40.724385</td>\n",
       "      <td>0.0</td>\n",
       "      <td>...</td>\n",
       "      <td>4072.666667</td>\n",
       "      <td>11.540689</td>\n",
       "      <td>678.666667</td>\n",
       "      <td>0.342633</td>\n",
       "      <td>1364.0</td>\n",
       "      <td>1.539942</td>\n",
       "      <td>5.333333</td>\n",
       "      <td>15.789474</td>\n",
       "      <td>39.333333</td>\n",
       "      <td>-8.256881</td>\n",
       "    </tr>\n",
       "    <tr>\n",
       "      <th>3</th>\n",
       "      <td>NaN</td>\n",
       "      <td>NaN</td>\n",
       "      <td>NaN</td>\n",
       "      <td>1991289.0</td>\n",
       "      <td>1.0</td>\n",
       "      <td>2708153.0</td>\n",
       "      <td>NaN</td>\n",
       "      <td>NaN</td>\n",
       "      <td>40.724332</td>\n",
       "      <td>0.0</td>\n",
       "      <td>...</td>\n",
       "      <td>4072.666667</td>\n",
       "      <td>11.540689</td>\n",
       "      <td>678.666667</td>\n",
       "      <td>0.342633</td>\n",
       "      <td>1364.0</td>\n",
       "      <td>1.539942</td>\n",
       "      <td>5.333333</td>\n",
       "      <td>15.789474</td>\n",
       "      <td>39.333333</td>\n",
       "      <td>-8.256881</td>\n",
       "    </tr>\n",
       "    <tr>\n",
       "      <th>4</th>\n",
       "      <td>NaN</td>\n",
       "      <td>NaN</td>\n",
       "      <td>NaN</td>\n",
       "      <td>NaN</td>\n",
       "      <td>NaN</td>\n",
       "      <td>NaN</td>\n",
       "      <td>NaN</td>\n",
       "      <td>NaN</td>\n",
       "      <td>40.724845</td>\n",
       "      <td>0.0</td>\n",
       "      <td>...</td>\n",
       "      <td>4072.666667</td>\n",
       "      <td>11.540689</td>\n",
       "      <td>678.666667</td>\n",
       "      <td>0.342633</td>\n",
       "      <td>1364.0</td>\n",
       "      <td>1.539942</td>\n",
       "      <td>5.333333</td>\n",
       "      <td>15.789474</td>\n",
       "      <td>39.333333</td>\n",
       "      <td>-8.256881</td>\n",
       "    </tr>\n",
       "  </tbody>\n",
       "</table>\n",
       "<p>5 rows × 100 columns</p>\n",
       "</div>"
      ],
      "text/plain": [
       "   tax_value  last_sold_price  property_size  zestimate_amount  bathrooms  \\\n",
       "0        NaN              NaN            NaN          849427.0        1.0   \n",
       "1  1642000.0              NaN         2250.0               NaN        2.0   \n",
       "2  1674000.0              NaN         2250.0         7332356.0        1.0   \n",
       "3        NaN              NaN            NaN         1991289.0        1.0   \n",
       "4        NaN              NaN            NaN               NaN        NaN   \n",
       "\n",
       "   zestimate_valuation_range_high  tax_year  zestimate_value_change  \\\n",
       "0                       1044795.0       NaN                     NaN   \n",
       "1                             NaN    2015.0                     NaN   \n",
       "2                       7992268.0    2015.0                     NaN   \n",
       "3                       2708153.0       NaN                     NaN   \n",
       "4                             NaN       NaN                     NaN   \n",
       "\n",
       "    latitude  zestimate_percentile                   ...                    \\\n",
       "0  40.724448                   0.0                   ...                     \n",
       "1  40.724420                   0.0                   ...                     \n",
       "2  40.724385                   0.0                   ...                     \n",
       "3  40.724332                   0.0                   ...                     \n",
       "4  40.724845                   0.0                   ...                     \n",
       "\n",
       "   TOTAL MISDEMEANOR OFFENSES_last_3_years  \\\n",
       "0                              4072.666667   \n",
       "1                              4072.666667   \n",
       "2                              4072.666667   \n",
       "3                              4072.666667   \n",
       "4                              4072.666667   \n",
       "\n",
       "  TOTAL MISDEMEANOR OFFENSES_percent_change  \\\n",
       "0                                 11.540689   \n",
       "1                                 11.540689   \n",
       "2                                 11.540689   \n",
       "3                                 11.540689   \n",
       "4                                 11.540689   \n",
       "\n",
       "   TOTAL NON-SEVEN MAJOR FELONY OFFENSES_last_3_years  \\\n",
       "0                                         678.666667    \n",
       "1                                         678.666667    \n",
       "2                                         678.666667    \n",
       "3                                         678.666667    \n",
       "4                                         678.666667    \n",
       "\n",
       "  TOTAL NON-SEVEN MAJOR FELONY OFFENSES_percent_change  \\\n",
       "0                                           0.342633     \n",
       "1                                           0.342633     \n",
       "2                                           0.342633     \n",
       "3                                           0.342633     \n",
       "4                                           0.342633     \n",
       "\n",
       "   TOTAL SEVEN MAJOR FELONY OFFENSES_last_3_years  \\\n",
       "0                                          1364.0   \n",
       "1                                          1364.0   \n",
       "2                                          1364.0   \n",
       "3                                          1364.0   \n",
       "4                                          1364.0   \n",
       "\n",
       "   TOTAL SEVEN MAJOR FELONY OFFENSES_percent_change  \\\n",
       "0                                          1.539942   \n",
       "1                                          1.539942   \n",
       "2                                          1.539942   \n",
       "3                                          1.539942   \n",
       "4                                          1.539942   \n",
       "\n",
       "  UNAUTHORIZED USE OF A VEHICLE_last_3_years  \\\n",
       "0                                   5.333333   \n",
       "1                                   5.333333   \n",
       "2                                   5.333333   \n",
       "3                                   5.333333   \n",
       "4                                   5.333333   \n",
       "\n",
       "   UNAUTHORIZED USE OF A VEHICLE_percent_change  \\\n",
       "0                                     15.789474   \n",
       "1                                     15.789474   \n",
       "2                                     15.789474   \n",
       "3                                     15.789474   \n",
       "4                                     15.789474   \n",
       "\n",
       "   VEHICLE AND TRAFFIC LAWS_last_3_years  \\\n",
       "0                              39.333333   \n",
       "1                              39.333333   \n",
       "2                              39.333333   \n",
       "3                              39.333333   \n",
       "4                              39.333333   \n",
       "\n",
       "  VEHICLE AND TRAFFIC LAWS_percent_change  \n",
       "0                               -8.256881  \n",
       "1                               -8.256881  \n",
       "2                               -8.256881  \n",
       "3                               -8.256881  \n",
       "4                               -8.256881  \n",
       "\n",
       "[5 rows x 100 columns]"
      ]
     },
     "execution_count": 3,
     "metadata": {},
     "output_type": "execute_result"
    }
   ],
   "source": [
    "data.head()"
   ]
  },
  {
   "cell_type": "code",
   "execution_count": 4,
   "metadata": {
    "collapsed": true
   },
   "outputs": [],
   "source": [
    "data_best_features = pd.read_csv(\"train_best_features.csv\")"
   ]
  },
  {
   "cell_type": "code",
   "execution_count": 5,
   "metadata": {
    "collapsed": false
   },
   "outputs": [
    {
     "data": {
      "text/plain": [
       "array(['tax_value', 'zestimate_amount', 'bathrooms', 'latitude',\n",
       "       'bedrooms', 'home_size',\n",
       "       'MURDER & NON NEGL. MANSLAUGHTER_last_3_years', 'RAPE_last_3_years',\n",
       "       'ROBBERY_last_3_years',\n",
       "       'TOTAL SEVEN MAJOR FELONY OFFENSES_last_3_years',\n",
       "       'schools_Number Tested', 'schools_mean score',\n",
       "       'home_type_Apartment', 'home_type_Condominium',\n",
       "       'home_type_Cooperative', 'home_type_Duplex',\n",
       "       'home_type_Miscellaneous', 'home_type_MultiFamily2To4',\n",
       "       'home_type_Quadruplex', 'home_type_SingleFamily',\n",
       "       'home_type_Townhouse', 'home_type_Unknown',\n",
       "       'neighborhood_Battery Park', 'neighborhood_Bedford-Stuyvesant',\n",
       "       'neighborhood_Borough Park', 'neighborhood_Carnegie Hill',\n",
       "       'neighborhood_Chelsea', 'neighborhood_Chinatown',\n",
       "       'neighborhood_Clinton', 'neighborhood_East Harlem',\n",
       "       'neighborhood_East Village', 'neighborhood_Greenwich Village',\n",
       "       'neighborhood_Hamilton Heights', 'neighborhood_Harlem',\n",
       "       'neighborhood_Inwood', 'neighborhood_Lower East Side',\n",
       "       'neighborhood_Morningside Heights',\n",
       "       'neighborhood_North Sutton Area', 'neighborhood_Soho',\n",
       "       'neighborhood_Tribeca', 'neighborhood_Upper East Side',\n",
       "       'neighborhood_Upper West Side', 'neighborhood_Washington Heights',\n",
       "       'neighborhood_West Village', 'neighborhood_Williamsburg',\n",
       "       'neighborhood_Yorkville'], dtype=object)"
      ]
     },
     "execution_count": 5,
     "metadata": {},
     "output_type": "execute_result"
    }
   ],
   "source": [
    "data_best_features.columns.values"
   ]
  },
  {
   "cell_type": "code",
   "execution_count": 6,
   "metadata": {
    "collapsed": true
   },
   "outputs": [],
   "source": [
    "def get_precinct (neighborhood):\n",
    "    subset = data[data['neighborhood'] == neighborhood]\n",
    "    precincts = subset['precinct'].unique()\n",
    "    len_list = []\n",
    "    for precinct in precincts:\n",
    "        length = len(subset[subset['precinct'] == precinct])\n",
    "        len_list += [length]\n",
    "    max_ind = np.argmax(len_list)\n",
    "    max_precinct = precincts[max_ind]\n",
    "    \n",
    "    return max_precinct"
   ]
  },
  {
   "cell_type": "code",
   "execution_count": 7,
   "metadata": {
    "collapsed": true
   },
   "outputs": [],
   "source": [
    "def get_schooldist (neighborhood):\n",
    "    subset = data[data['neighborhood'] == neighborhood]\n",
    "    schooldists = subset['schooldistrict'].unique()\n",
    "    len_list = []\n",
    "    for schooldist in schooldists:\n",
    "        length = len(subset[subset['schooldistrict'] == schooldist])\n",
    "        len_list += [length]\n",
    "    max_ind = np.argmax(len_list)\n",
    "    max_schooldist = schooldists[max_ind]\n",
    "    \n",
    "    return max_schooldist"
   ]
  },
  {
   "cell_type": "code",
   "execution_count": 8,
   "metadata": {
    "collapsed": true
   },
   "outputs": [],
   "source": [
    "def get_feature (neighborhood, home_type, feature):\n",
    "    neighborhood_new = neighborhood.split(\"_\")[1]\n",
    "    home_type_new = home_type.split(\"_\")[2]\n",
    "    subset = data[data['neighborhood'] == neighborhood_new]\n",
    "    subset = subset[subset['home_type'] == home_type_new]\n",
    "    subset = subset[np.isfinite(subset[feature])]\n",
    "    med = np.median(subset[feature])\n",
    "    \n",
    "    return med"
   ]
  },
  {
   "cell_type": "code",
   "execution_count": 41,
   "metadata": {
    "collapsed": false
   },
   "outputs": [],
   "source": [
    "df = pd.DataFrame(columns=data_best_features.columns.values)"
   ]
  },
  {
   "cell_type": "code",
   "execution_count": 42,
   "metadata": {
    "collapsed": true
   },
   "outputs": [],
   "source": [
    "used_neighborhoods = ['neighborhood_Battery Park', 'neighborhood_Bedford-Stuyvesant',\n",
    "       'neighborhood_Borough Park', 'neighborhood_Carnegie Hill',\n",
    "       'neighborhood_Chelsea', 'neighborhood_Chinatown',\n",
    "       'neighborhood_Clinton', 'neighborhood_East Harlem',\n",
    "       'neighborhood_East Village', 'neighborhood_Greenwich Village',\n",
    "       'neighborhood_Hamilton Heights', 'neighborhood_Harlem',\n",
    "       'neighborhood_Inwood', 'neighborhood_Lower East Side',\n",
    "       'neighborhood_Morningside Heights',\n",
    "       'neighborhood_North Sutton Area', 'neighborhood_Soho',\n",
    "       'neighborhood_Tribeca', 'neighborhood_Upper East Side',\n",
    "       'neighborhood_Upper West Side', 'neighborhood_Washington Heights',\n",
    "       'neighborhood_West Village', 'neighborhood_Williamsburg',\n",
    "       'neighborhood_Yorkville']"
   ]
  },
  {
   "cell_type": "code",
   "execution_count": 43,
   "metadata": {
    "collapsed": true
   },
   "outputs": [],
   "source": [
    "used_home_types = ['home_type_Apartment', 'home_type_Condominium',\n",
    "       'home_type_Cooperative', 'home_type_Duplex',\n",
    "       'home_type_Miscellaneous', 'home_type_MultiFamily2To4',\n",
    "       'home_type_Quadruplex', 'home_type_SingleFamily',\n",
    "       'home_type_Townhouse', 'home_type_Unknown']"
   ]
  },
  {
   "cell_type": "code",
   "execution_count": 44,
   "metadata": {
    "collapsed": false,
    "scrolled": true
   },
   "outputs": [],
   "source": [
    "num_cols = data_best_features.shape[1]"
   ]
  },
  {
   "cell_type": "code",
   "execution_count": 45,
   "metadata": {
    "collapsed": false
   },
   "outputs": [],
   "source": [
    "ind = 0\n",
    "\n",
    "hometypes_bed_bath = {\"home_type_Apartment\": [(1,1), (2,1), (3,1)], \"home_type_Condominium\": [(2, 1.5)], \\\n",
    "             \"home_type_Cooperative\": [(2,1)], \"home_type_Duplex\": [(2,2.25)], \"home_type_MultiFamily2To4\": [(1,1)], \\\n",
    "             \"home_type_Quadruplex\": [(1,1)], \"home_type_SingleFamily\": [(2,2)], \"home_type_Townhouse\": [(4,3)], \n",
    "                      \"home_type_Miscellaneous\": [(1,1)], \"home_type_Unknown\": [(1,1)]}\n",
    "\n",
    "for neighborhood in used_neighborhoods:\n",
    "    for home_type in used_home_types:\n",
    "        row = [0] * num_cols\n",
    "        neigh_ind = used_neighborhoods.index(neighborhood)\n",
    "        home_ind = used_home_types.index(home_type)\n",
    "        # fill in home type\n",
    "        row[home_ind + 12] = 1\n",
    "        # fill in neighborhood\n",
    "        row[neigh_ind + 22] = 1\n",
    "        # fill in bathrooms and bedrooms\n",
    "        beds = hometypes_bed_bath[home_type][0][0]\n",
    "        baths = hometypes_bed_bath[home_type][0][1]\n",
    "        row[2] = baths\n",
    "        row[4] = beds\n",
    "        # fill in tax value\n",
    "        tax_val = get_feature(neighborhood, home_type, 'tax_value')\n",
    "        row[0] = tax_val\n",
    "        # fill in home size\n",
    "        home_size = get_feature(neighborhood, home_type, 'home_size')\n",
    "        row[5] = home_size\n",
    "        # fill in latitude\n",
    "        latitude = get_feature(neighborhood, home_type, 'latitude')\n",
    "        row[3] = latitude\n",
    "        # fill in crime and school info\n",
    "        for i in range(6, 12):\n",
    "            row[i] = get_feature(neighborhood, home_type, data_best_features.columns.values[i])\n",
    "        \n",
    "        df.loc[ind] = row\n",
    "        \n",
    "        ind += 1\n",
    "        \n",
    "        "
   ]
  },
  {
   "cell_type": "code",
   "execution_count": 46,
   "metadata": {
    "collapsed": false,
    "scrolled": false
   },
   "outputs": [
    {
     "data": {
      "text/plain": [
       "240"
      ]
     },
     "execution_count": 46,
     "metadata": {},
     "output_type": "execute_result"
    }
   ],
   "source": [
    "len(df)"
   ]
  },
  {
   "cell_type": "code",
   "execution_count": 48,
   "metadata": {
    "collapsed": false
   },
   "outputs": [],
   "source": [
    "home_type = \"home_type_Apartment\"\n",
    "ind = 240\n",
    "apartment_bedrooms = [(2,1), (3,1)]\n",
    "\n",
    "for size in apartment_bedrooms:\n",
    "    for neighborhood in used_neighborhoods:\n",
    "        row = [0] * num_cols\n",
    "        neigh_ind = used_neighborhoods.index(neighborhood)\n",
    "        home_ind = used_home_types.index(home_type)\n",
    "        # fill in home type\n",
    "        row[home_ind + 12] = 1\n",
    "        # fill in neighborhood\n",
    "        row[neigh_ind + 22] = 1\n",
    "        # fill in bathrooms and bedrooms\n",
    "        beds = size[0]\n",
    "        baths = size[1]\n",
    "        row[2] = baths\n",
    "        row[4] = beds\n",
    "        # fill in tax value\n",
    "        tax_val = get_feature(neighborhood, home_type, 'tax_value')\n",
    "        row[0] = tax_val\n",
    "        # fill in home size\n",
    "        home_size = get_feature(neighborhood, home_type, 'home_size')\n",
    "        row[5] = home_size\n",
    "        # fill in latitude\n",
    "        latitude = get_feature(neighborhood, home_type, 'latitude')\n",
    "        row[3] = latitude\n",
    "        # fill in crime and school info\n",
    "        for i in range(6, 12):\n",
    "            row[i] = get_feature(neighborhood, home_type, data_best_features.columns.values[i])\n",
    "        \n",
    "        df.loc[ind] = row\n",
    "        \n",
    "        ind += 1\n"
   ]
  },
  {
   "cell_type": "code",
   "execution_count": 49,
   "metadata": {
    "collapsed": false,
    "scrolled": true
   },
   "outputs": [],
   "source": [
    "df = df.dropna()"
   ]
  },
  {
   "cell_type": "code",
   "execution_count": 50,
   "metadata": {
    "collapsed": false,
    "scrolled": true
   },
   "outputs": [
    {
     "data": {
      "text/plain": [
       "228"
      ]
     },
     "execution_count": 50,
     "metadata": {},
     "output_type": "execute_result"
    }
   ],
   "source": [
    "len(df)"
   ]
  },
  {
   "cell_type": "code",
   "execution_count": 51,
   "metadata": {
    "collapsed": false
   },
   "outputs": [],
   "source": [
    "df = df.drop([\"zestimate_amount\"], 1)"
   ]
  },
  {
   "cell_type": "code",
   "execution_count": 52,
   "metadata": {
    "collapsed": true
   },
   "outputs": [],
   "source": [
    "df.to_csv(\"df_to_predict.csv\", index = False)"
   ]
  },
  {
   "cell_type": "code",
   "execution_count": 65,
   "metadata": {
    "collapsed": false
   },
   "outputs": [
    {
     "name": "stdout",
     "output_type": "stream",
     "text": [
      "home_type_Apartment\n",
      "1 1\n",
      "home_type_Apartment\n",
      "2 1\n",
      "home_type_Apartment\n",
      "3 1\n",
      "home_type_Duplex\n",
      "2 2.25\n",
      "home_type_Townhouse\n",
      "4 3\n",
      "home_type_Cooperative\n",
      "2 1\n",
      "home_type_MultiFamily2To4\n",
      "1 1\n",
      "home_type_SingleFamily\n",
      "2 2\n",
      "home_type_Quadruplex\n",
      "1 1\n",
      "home_type_Condominium\n",
      "2 1.5\n"
     ]
    }
   ],
   "source": [
    "hometypes_bed_bath = {\"home_type_Apartment\": [(1,1), (2,1), (3,1)], \"home_type_Condominium\": [(2, 1.5)], \\\n",
    "             \"home_type_Cooperative\": [(2,1)], \"home_type_Duplex\": [(2,2.25)], \"home_type_MultiFamily2To4\": [(1,1)], \\\n",
    "             \"home_type_Quadruplex\": [(1,1)], \"home_type_SingleFamily\": [(2,2)], \"home_type_Townhouse\": [(4,3)]}\n",
    "\n",
    "for hometype in hometypes.keys():\n",
    "    for (bed,bath) in hometypes[hometype]:\n",
    "        print hometype\n",
    "        print bed, bath"
   ]
  },
  {
   "cell_type": "code",
   "execution_count": null,
   "metadata": {
    "collapsed": true
   },
   "outputs": [],
   "source": [
    "model = ensemble.RandomForestRegressor(n_estimators = 50, max_depth = 35)\n",
    "model.fit(x_train, y_train)"
   ]
  }
 ],
 "metadata": {
  "kernelspec": {
   "display_name": "Python [conda root]",
   "language": "python",
   "name": "conda-root-py"
  },
  "language_info": {
   "codemirror_mode": {
    "name": "ipython",
    "version": 2
   },
   "file_extension": ".py",
   "mimetype": "text/x-python",
   "name": "python",
   "nbconvert_exporter": "python",
   "pygments_lexer": "ipython2",
   "version": "2.7.12"
  }
 },
 "nbformat": 4,
 "nbformat_minor": 1
}
